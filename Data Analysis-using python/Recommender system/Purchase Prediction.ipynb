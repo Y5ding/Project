{
 "cells": [
  {
   "cell_type": "code",
   "execution_count": 1,
   "metadata": {},
   "outputs": [],
   "source": [
    "import gzip\n",
    "import math\n",
    "import sklearn\n",
    "import random\n",
    "import numpy as np\n",
    "import pandas as pd\n",
    "import sklearn\n",
    "from pandas import DataFrame\n",
    "from sklearn import linear_model\n",
    "from collections import defaultdict\n",
    "from random import choice"
   ]
  },
  {
   "cell_type": "code",
   "execution_count": 2,
   "metadata": {},
   "outputs": [],
   "source": [
    "import matplotlib.pyplot as plt"
   ]
  },
  {
   "cell_type": "code",
   "execution_count": 3,
   "metadata": {},
   "outputs": [],
   "source": [
    "def parse(path):\n",
    "    g = gzip.open(path, 'rb')\n",
    "    for l in g:\n",
    "        true=True\n",
    "        false=False\n",
    "        yield eval(l)\n",
    "\n",
    "def readJSON(path):\n",
    "    i = 0\n",
    "    df = {}\n",
    "    for d in parse(path):\n",
    "        df[i] = d\n",
    "        i += 1\n",
    "    return pd.DataFrame.from_dict(df, orient='index')"
   ]
  },
  {
   "cell_type": "code",
   "execution_count": 4,
   "metadata": {},
   "outputs": [],
   "source": [
    "dataset_5core = readJSON('Digital_Music_5.json.gz')"
   ]
  },
  {
   "cell_type": "code",
   "execution_count": 5,
   "metadata": {},
   "outputs": [],
   "source": [
    "user_5core=list(dataset_5core['reviewerID'])"
   ]
  },
  {
   "cell_type": "code",
   "execution_count": 6,
   "metadata": {},
   "outputs": [],
   "source": [
    "dataset = readJSON(\"Digital_Music.json.gz\")"
   ]
  },
  {
   "cell_type": "code",
   "execution_count": 7,
   "metadata": {},
   "outputs": [
    {
     "data": {
      "text/html": [
       "<div>\n",
       "<style scoped>\n",
       "    .dataframe tbody tr th:only-of-type {\n",
       "        vertical-align: middle;\n",
       "    }\n",
       "\n",
       "    .dataframe tbody tr th {\n",
       "        vertical-align: top;\n",
       "    }\n",
       "\n",
       "    .dataframe thead th {\n",
       "        text-align: right;\n",
       "    }\n",
       "</style>\n",
       "<table border=\"1\" class=\"dataframe\">\n",
       "  <thead>\n",
       "    <tr style=\"text-align: right;\">\n",
       "      <th></th>\n",
       "      <th>overall</th>\n",
       "      <th>verified</th>\n",
       "      <th>reviewTime</th>\n",
       "      <th>reviewerID</th>\n",
       "      <th>asin</th>\n",
       "      <th>style</th>\n",
       "      <th>reviewerName</th>\n",
       "      <th>reviewText</th>\n",
       "      <th>summary</th>\n",
       "      <th>unixReviewTime</th>\n",
       "      <th>vote</th>\n",
       "      <th>image</th>\n",
       "    </tr>\n",
       "  </thead>\n",
       "  <tbody>\n",
       "    <tr>\n",
       "      <th>0</th>\n",
       "      <td>5.0</td>\n",
       "      <td>True</td>\n",
       "      <td>12 22, 2013</td>\n",
       "      <td>A1ZCPG3D3HGRSS</td>\n",
       "      <td>0001388703</td>\n",
       "      <td>{'Format:': ' Audio CD'}</td>\n",
       "      <td>mark l. massey</td>\n",
       "      <td>This is a great cd full of worship favorites!!...</td>\n",
       "      <td>Great worship cd</td>\n",
       "      <td>1387670400</td>\n",
       "      <td>NaN</td>\n",
       "      <td>NaN</td>\n",
       "    </tr>\n",
       "    <tr>\n",
       "      <th>1</th>\n",
       "      <td>5.0</td>\n",
       "      <td>True</td>\n",
       "      <td>09 11, 2013</td>\n",
       "      <td>AC2PL52NKPL29</td>\n",
       "      <td>0001388703</td>\n",
       "      <td>{'Format:': ' Audio CD'}</td>\n",
       "      <td>Norma Mushen</td>\n",
       "      <td>So creative!  Love his music - the words, the ...</td>\n",
       "      <td>Gotta listen to this!</td>\n",
       "      <td>1378857600</td>\n",
       "      <td>NaN</td>\n",
       "      <td>NaN</td>\n",
       "    </tr>\n",
       "    <tr>\n",
       "      <th>2</th>\n",
       "      <td>5.0</td>\n",
       "      <td>True</td>\n",
       "      <td>03 2, 2013</td>\n",
       "      <td>A1SUZXBDZSDQ3A</td>\n",
       "      <td>0001388703</td>\n",
       "      <td>{'Format:': ' Audio CD'}</td>\n",
       "      <td>Herbert W. Shurley</td>\n",
       "      <td>Keith Green, gone far to early in his carreer,...</td>\n",
       "      <td>Great approach still gets the message out</td>\n",
       "      <td>1362182400</td>\n",
       "      <td>NaN</td>\n",
       "      <td>NaN</td>\n",
       "    </tr>\n",
       "    <tr>\n",
       "      <th>3</th>\n",
       "      <td>5.0</td>\n",
       "      <td>True</td>\n",
       "      <td>12 2, 2012</td>\n",
       "      <td>A3A0W7FZXM0IZW</td>\n",
       "      <td>0001388703</td>\n",
       "      <td>{'Format:': ' Audio CD'}</td>\n",
       "      <td>Mary M Raybell</td>\n",
       "      <td>Keith Green had his special comedy style of Ch...</td>\n",
       "      <td>Great A must have</td>\n",
       "      <td>1354406400</td>\n",
       "      <td>NaN</td>\n",
       "      <td>NaN</td>\n",
       "    </tr>\n",
       "    <tr>\n",
       "      <th>4</th>\n",
       "      <td>5.0</td>\n",
       "      <td>False</td>\n",
       "      <td>01 7, 2012</td>\n",
       "      <td>A12R54MKO17TW0</td>\n",
       "      <td>0001388703</td>\n",
       "      <td>{'Format:': ' Audio CD'}</td>\n",
       "      <td>J. Bynum</td>\n",
       "      <td>Keith Green / So you wanna go back to Egypt......</td>\n",
       "      <td>A great one from Keith with a guest appearance...</td>\n",
       "      <td>1325894400</td>\n",
       "      <td>6</td>\n",
       "      <td>NaN</td>\n",
       "    </tr>\n",
       "    <tr>\n",
       "      <th>...</th>\n",
       "      <td>...</td>\n",
       "      <td>...</td>\n",
       "      <td>...</td>\n",
       "      <td>...</td>\n",
       "      <td>...</td>\n",
       "      <td>...</td>\n",
       "      <td>...</td>\n",
       "      <td>...</td>\n",
       "      <td>...</td>\n",
       "      <td>...</td>\n",
       "      <td>...</td>\n",
       "      <td>...</td>\n",
       "    </tr>\n",
       "    <tr>\n",
       "      <th>1584077</th>\n",
       "      <td>5.0</td>\n",
       "      <td>True</td>\n",
       "      <td>03 3, 2018</td>\n",
       "      <td>AR3KABMPL5L0O</td>\n",
       "      <td>B01HJ91P94</td>\n",
       "      <td>{'Format:': ' MP3 Music'}</td>\n",
       "      <td>Shar Solis</td>\n",
       "      <td>Casting Crowns....you do it so well! Awesome s...</td>\n",
       "      <td>Awesome song!</td>\n",
       "      <td>1520035200</td>\n",
       "      <td>NaN</td>\n",
       "      <td>NaN</td>\n",
       "    </tr>\n",
       "    <tr>\n",
       "      <th>1584078</th>\n",
       "      <td>4.0</td>\n",
       "      <td>True</td>\n",
       "      <td>01 24, 2018</td>\n",
       "      <td>A2N53GHW73INDH</td>\n",
       "      <td>B01HJ91P94</td>\n",
       "      <td>{'Format:': ' MP3 Music'}</td>\n",
       "      <td>PEANUT</td>\n",
       "      <td>This band has produced many inspiring Christia...</td>\n",
       "      <td>This song in particular speaks about what it's...</td>\n",
       "      <td>1516752000</td>\n",
       "      <td>NaN</td>\n",
       "      <td>NaN</td>\n",
       "    </tr>\n",
       "    <tr>\n",
       "      <th>1584079</th>\n",
       "      <td>5.0</td>\n",
       "      <td>True</td>\n",
       "      <td>04 21, 2017</td>\n",
       "      <td>ABNKLDCCVJKW1</td>\n",
       "      <td>B01HJ91P94</td>\n",
       "      <td>{'Format:': ' MP3 Music'}</td>\n",
       "      <td>Alex</td>\n",
       "      <td>Awesome band and awesome song. This is my next...</td>\n",
       "      <td>Five Stars</td>\n",
       "      <td>1492732800</td>\n",
       "      <td>NaN</td>\n",
       "      <td>NaN</td>\n",
       "    </tr>\n",
       "    <tr>\n",
       "      <th>1584080</th>\n",
       "      <td>5.0</td>\n",
       "      <td>True</td>\n",
       "      <td>02 23, 2018</td>\n",
       "      <td>AMWSDABZWFRAT</td>\n",
       "      <td>B01HJ91IVY</td>\n",
       "      <td>{'Format:': ' MP3 Music'}</td>\n",
       "      <td>sara cabuag</td>\n",
       "      <td>Excellent</td>\n",
       "      <td>Five Stars</td>\n",
       "      <td>1519344000</td>\n",
       "      <td>NaN</td>\n",
       "      <td>NaN</td>\n",
       "    </tr>\n",
       "    <tr>\n",
       "      <th>1584081</th>\n",
       "      <td>5.0</td>\n",
       "      <td>True</td>\n",
       "      <td>05 17, 2017</td>\n",
       "      <td>A7K5263R5OUIP</td>\n",
       "      <td>B01HJ91IVY</td>\n",
       "      <td>{'Format:': ' MP3 Music'}</td>\n",
       "      <td>K. Elliott</td>\n",
       "      <td>This is a moving song. I used it on Easter mor...</td>\n",
       "      <td>Casting Crowns does it again!</td>\n",
       "      <td>1494979200</td>\n",
       "      <td>NaN</td>\n",
       "      <td>NaN</td>\n",
       "    </tr>\n",
       "  </tbody>\n",
       "</table>\n",
       "<p>1584082 rows × 12 columns</p>\n",
       "</div>"
      ],
      "text/plain": [
       "         overall  verified   reviewTime      reviewerID        asin  \\\n",
       "0            5.0      True  12 22, 2013  A1ZCPG3D3HGRSS  0001388703   \n",
       "1            5.0      True  09 11, 2013   AC2PL52NKPL29  0001388703   \n",
       "2            5.0      True   03 2, 2013  A1SUZXBDZSDQ3A  0001388703   \n",
       "3            5.0      True   12 2, 2012  A3A0W7FZXM0IZW  0001388703   \n",
       "4            5.0     False   01 7, 2012  A12R54MKO17TW0  0001388703   \n",
       "...          ...       ...          ...             ...         ...   \n",
       "1584077      5.0      True   03 3, 2018   AR3KABMPL5L0O  B01HJ91P94   \n",
       "1584078      4.0      True  01 24, 2018  A2N53GHW73INDH  B01HJ91P94   \n",
       "1584079      5.0      True  04 21, 2017   ABNKLDCCVJKW1  B01HJ91P94   \n",
       "1584080      5.0      True  02 23, 2018   AMWSDABZWFRAT  B01HJ91IVY   \n",
       "1584081      5.0      True  05 17, 2017   A7K5263R5OUIP  B01HJ91IVY   \n",
       "\n",
       "                             style        reviewerName  \\\n",
       "0         {'Format:': ' Audio CD'}      mark l. massey   \n",
       "1         {'Format:': ' Audio CD'}        Norma Mushen   \n",
       "2         {'Format:': ' Audio CD'}  Herbert W. Shurley   \n",
       "3         {'Format:': ' Audio CD'}      Mary M Raybell   \n",
       "4         {'Format:': ' Audio CD'}            J. Bynum   \n",
       "...                            ...                 ...   \n",
       "1584077  {'Format:': ' MP3 Music'}          Shar Solis   \n",
       "1584078  {'Format:': ' MP3 Music'}              PEANUT   \n",
       "1584079  {'Format:': ' MP3 Music'}                Alex   \n",
       "1584080  {'Format:': ' MP3 Music'}         sara cabuag   \n",
       "1584081  {'Format:': ' MP3 Music'}          K. Elliott   \n",
       "\n",
       "                                                reviewText  \\\n",
       "0        This is a great cd full of worship favorites!!...   \n",
       "1        So creative!  Love his music - the words, the ...   \n",
       "2        Keith Green, gone far to early in his carreer,...   \n",
       "3        Keith Green had his special comedy style of Ch...   \n",
       "4        Keith Green / So you wanna go back to Egypt......   \n",
       "...                                                    ...   \n",
       "1584077  Casting Crowns....you do it so well! Awesome s...   \n",
       "1584078  This band has produced many inspiring Christia...   \n",
       "1584079  Awesome band and awesome song. This is my next...   \n",
       "1584080                                          Excellent   \n",
       "1584081  This is a moving song. I used it on Easter mor...   \n",
       "\n",
       "                                                   summary  unixReviewTime  \\\n",
       "0                                         Great worship cd      1387670400   \n",
       "1                                    Gotta listen to this!      1378857600   \n",
       "2                Great approach still gets the message out      1362182400   \n",
       "3                                        Great A must have      1354406400   \n",
       "4        A great one from Keith with a guest appearance...      1325894400   \n",
       "...                                                    ...             ...   \n",
       "1584077                                      Awesome song!      1520035200   \n",
       "1584078  This song in particular speaks about what it's...      1516752000   \n",
       "1584079                                         Five Stars      1492732800   \n",
       "1584080                                         Five Stars      1519344000   \n",
       "1584081                      Casting Crowns does it again!      1494979200   \n",
       "\n",
       "        vote image  \n",
       "0        NaN   NaN  \n",
       "1        NaN   NaN  \n",
       "2        NaN   NaN  \n",
       "3        NaN   NaN  \n",
       "4          6   NaN  \n",
       "...      ...   ...  \n",
       "1584077  NaN   NaN  \n",
       "1584078  NaN   NaN  \n",
       "1584079  NaN   NaN  \n",
       "1584080  NaN   NaN  \n",
       "1584081  NaN   NaN  \n",
       "\n",
       "[1584082 rows x 12 columns]"
      ]
     },
     "execution_count": 7,
     "metadata": {},
     "output_type": "execute_result"
    }
   ],
   "source": [
    "dataset"
   ]
  },
  {
   "cell_type": "code",
   "execution_count": 7,
   "metadata": {},
   "outputs": [],
   "source": [
    "data = dataset[['reviewerID','overall','asin']]"
   ]
  },
  {
   "cell_type": "raw",
   "metadata": {},
   "source": [
    "style=data['style']\n",
    "rating=list(data['overall'])\n",
    "newstyle=list()\n",
    "for i in style:\n",
    "    try:\n",
    "        a=i.get('Format:')\n",
    "        newstyle.append(a)\n",
    "    except:\n",
    "        continue"
   ]
  },
  {
   "cell_type": "raw",
   "metadata": {},
   "source": [
    "from collections import Counter\n",
    "obj=pd.Series(Counter(newstyle))\n",
    "obj.name='times'\n",
    "obj.index.name='style'"
   ]
  },
  {
   "cell_type": "raw",
   "metadata": {},
   "source": [
    "obj.plot.bar()\n",
    "plt.xlabel('style')\n",
    "plt.ylabel('times')\n",
    "plt.title('Distribution of Styles')\n",
    "plt.savefig('style.png',dpi=400,bbox_inches='tight')"
   ]
  },
  {
   "cell_type": "raw",
   "metadata": {},
   "source": [
    "fig, (ax1, ax2) = plt.subplots(nrows=1, ncols=2, figsize=(15,7))\n",
    "sns.countplot(dataset['overall'], ax=ax1)\n",
    "ax1.set_xlabel('Rating Distribution', fontsize=10)\n",
    "ax1.set_ylabel('Count', fontsize=10)\n",
    "\n",
    "\n",
    "explode = (0.1, 0, 0.1, 0, 0)\n",
    "ax2.pie(rating_counts[\"Ratings\"], explode=explode, labels=rating_counts.Labels, autopct='%1.2f%%',\n",
    "        shadow=True, startangle=70)\n",
    "ax2.axis('equal')\n",
    "plt.title(\"Rating Ratio\")\n",
    "plt.legend(rating_counts.Labels, loc=3)\n",
    "plt.show()"
   ]
  },
  {
   "cell_type": "code",
   "execution_count": 234,
   "metadata": {},
   "outputs": [],
   "source": [
    "df4=dict(df3)\n",
    "key_list = list(filter(lambda k: df4.get(k) == 1 , df4.keys()))"
   ]
  },
  {
   "cell_type": "code",
   "execution_count": 322,
   "metadata": {},
   "outputs": [
    {
     "data": {
      "text/plain": [
       "[(3411, 'B0135P6PZA'),\n",
       " (3243, 'B00M8JCW3E'),\n",
       " (2819, 'B00CZF8B68'),\n",
       " (2195, 'B00NPZI1ZS'),\n",
       " (2046, 'B00U3WJHCW')]"
      ]
     },
     "execution_count": 322,
     "metadata": {},
     "output_type": "execute_result"
    }
   ],
   "source": [
    "mostPopular = [(df4[x], x) for x in df4]\n",
    "mostPopular[:5]"
   ]
  },
  {
   "cell_type": "code",
   "execution_count": 243,
   "metadata": {},
   "outputs": [],
   "source": [
    "random.shuffle(key_list)\n",
    "key=key_list[:10]"
   ]
  },
  {
   "cell_type": "code",
   "execution_count": 244,
   "metadata": {},
   "outputs": [
    {
     "name": "stdout",
     "output_type": "stream",
     "text": [
      "0\n"
     ]
    }
   ],
   "source": [
    "count=0\n",
    "for i in key:\n",
    "    if i in user_5core:count+=1\n",
    "print(count)"
   ]
  },
  {
   "cell_type": "code",
   "execution_count": 262,
   "metadata": {},
   "outputs": [],
   "source": [
    "df3 = data.asin.value_counts()\n",
    "p=list(df3)"
   ]
  },
  {
   "cell_type": "code",
   "execution_count": 263,
   "metadata": {},
   "outputs": [
    {
     "data": {
      "image/png": "[encoded data removed]",
      "text/plain": [
       "<Figure size 432x288 with 2 Axes>"
      ]
     },
     "metadata": {
      "needs_background": "light"
     },
     "output_type": "display_data"
    }
   ],
   "source": [
    "hist, bin_edges, = np.histogram(p, bins=1000)\n",
    "width = (bin_edges[1] - bin_edges[0]) * 0.8\n",
    "\n",
    "fig, ax1 = plt.subplots()\n",
    "ax1.bar(bin_edges[1:], hist, width=width, label='Number of Items')\n",
    "ax1.set_xlabel(\"Number of Users\")\n",
    "ax1.set_ylabel('Number of Items')\n",
    "\n",
    "ax2 = ax1.twinx()\n",
    "ax2.set_xlim([0,100])\n",
    "cdf = np.cumsum(hist / sum(hist))\n",
    "ax2.plot(bin_edges[1:], cdf, '-', label='CDF', c='r')\n",
    "ax2.set_ylabel('CDF')\n",
    "plt.grid(axis='y', alpha=0.7, linestyle=':')\n",
    "handles1, labels1 = ax1.get_legend_handles_labels()\n",
    "handles2, labels2 = ax2.get_legend_handles_labels()\n",
    "plt.legend(handles1 + handles2, labels1 + labels2, loc='lower right')\n",
    "plt.title('The Distribution of the Frequency of Items')\n",
    "plt.savefig('item_freq.png',dpi=400,bbox_inches='tight')"
   ]
  },
  {
   "cell_type": "raw",
   "metadata": {},
   "source": [
    "t=list(df3)\n",
    "t.sort()\n",
    "asintime=defaultdict(int)\n",
    "for i in t:\n",
    "    asintime[i]+=1\n",
    "asin=[asintime[x])for x in asintime]  "
   ]
  },
  {
   "cell_type": "code",
   "execution_count": 366,
   "metadata": {},
   "outputs": [],
   "source": [
    "df4 = pd.read_csv('U_I_R_rank.csv')\n",
    "df5=pd.DataFrame(df4)"
   ]
  },
  {
   "cell_type": "code",
   "execution_count": 367,
   "metadata": {},
   "outputs": [],
   "source": [
    "dfn = df5.reviewerID.value_counts()\n",
    "t=list(dfn)\n",
    "t.sort()\n",
    "rev=defaultdict(int)\n",
    "for i in t:\n",
    "    rev[i]+=1\n",
    "rev1=[rev[x] for x in rev]  "
   ]
  },
  {
   "cell_type": "code",
   "execution_count": 370,
   "metadata": {},
   "outputs": [
    {
     "data": {
      "text/plain": [
       "3973"
      ]
     },
     "execution_count": 370,
     "metadata": {},
     "output_type": "execute_result"
    }
   ],
   "source": [
    "len(dfn)"
   ]
  },
  {
   "cell_type": "code",
   "execution_count": 368,
   "metadata": {},
   "outputs": [
    {
     "data": {
      "text/plain": [
       "[1, 1, 1, 1, 1]"
      ]
     },
     "execution_count": 368,
     "metadata": {},
     "output_type": "execute_result"
    }
   ],
   "source": [
    "rev1.sort()\n",
    "rev1[:5]"
   ]
  },
  {
   "cell_type": "code",
   "execution_count": 363,
   "metadata": {},
   "outputs": [
    {
     "data": {
      "image/png": "[encoded data removed]",
      "text/plain": [
       "<Figure size 432x288 with 2 Axes>"
      ]
     },
     "metadata": {
      "needs_background": "light"
     },
     "output_type": "display_data"
    }
   ],
   "source": [
    "hist, bin_edges, = np.histogram(rev1, bins=500)\n",
    "width = (bin_edges[1] - bin_edges[0]) * 0.8\n",
    "\n",
    "fig, ax1 = plt.subplots()\n",
    "ax1.bar(bin_edges[1:], hist, width=width, label='Number of items')\n",
    "ax1.set_xlabel(\"Number of items\")\n",
    "ax1.set_ylabel('Frequency of item appearing in the filtered dataset')\n",
    "\n",
    "ax2 = ax1.twinx()\n",
    "ax2.set_xlim([0,1000])\n",
    "cdf = np.cumsum(hist / sum(hist))\n",
    "ax2.plot(bin_edges[1:], cdf, '-', label='CDF', c='r')\n",
    "ax2.set_ylabel('CDF')\n",
    "plt.grid(axis='y', alpha=0.7, linestyle=':')\n",
    "handles1, labels1 = ax1.get_legend_handles_labels()\n",
    "handles2, labels2 = ax2.get_legend_handles_labels()\n",
    "plt.legend(handles1 + handles2, labels1 + labels2, loc='lower right')\n",
    "plt.title('Frequency of users appearing in filtered dataset')\n",
    "plt.savefig('fliterd_item_freq.png',dpi=400,bbox_inches='tight')"
   ]
  },
  {
   "cell_type": "code",
   "execution_count": 340,
   "metadata": {},
   "outputs": [],
   "source": [
    "dfn = df5.asin.value_counts()\n",
    "t=list(dfn)\n",
    "t.sort()\n",
    "asintime=defaultdict(int)\n",
    "for i in t:\n",
    "    asintime[i]+=1\n",
    "asin1=[asintime[x] for x in asintime]  "
   ]
  },
  {
   "cell_type": "code",
   "execution_count": 349,
   "metadata": {},
   "outputs": [
    {
     "data": {
      "text/plain": [
       "50086"
      ]
     },
     "execution_count": 349,
     "metadata": {},
     "output_type": "execute_result"
    }
   ],
   "source": [
    "asin1[0]"
   ]
  },
  {
   "cell_type": "code",
   "execution_count": 371,
   "metadata": {},
   "outputs": [
    {
     "data": {
      "image/png": "[encoded data removed]",
      "text/plain": [
       "<Figure size 432x288 with 2 Axes>"
      ]
     },
     "metadata": {
      "needs_background": "light"
     },
     "output_type": "display_data"
    }
   ],
   "source": [
    "hist, bin_edges, = np.histogram(asin1, bins=1200)\n",
    "width = (bin_edges[1] - bin_edges[0]) * 0.8\n",
    "\n",
    "fig, ax1 = plt.subplots()\n",
    "ax1.bar(bin_edges[1:], hist, width=width, label='Number of items')\n",
    "ax1.set_xlabel(\"Number of items\")\n",
    "ax1.set_ylabel('Frequency of item appearing in the filtered dataset')\n",
    "\n",
    "ax2 = ax1.twinx()\n",
    "ax2.set_xlim([0,1000])\n",
    "cdf = np.cumsum(hist / sum(hist))\n",
    "ax2.plot(bin_edges[1:], cdf, '-', label='CDF', c='r')\n",
    "ax2.set_ylabel('CDF')\n",
    "ax2.set_ylim([0.6,1])\n",
    "plt.grid(axis='y', alpha=0.7, linestyle=':')\n",
    "handles1, labels1 = ax1.get_legend_handles_labels()\n",
    "handles2, labels2 = ax2.get_legend_handles_labels()\n",
    "plt.legend(handles1 + handles2, labels1 + labels2, loc='lower right')\n",
    "plt.title('Frequency of item appearing in filtered dataset')\n",
    "plt.savefig('fliterd_item_freq.png',dpi=400,bbox_inches='tight')"
   ]
  },
  {
   "cell_type": "code",
   "execution_count": 284,
   "metadata": {},
   "outputs": [
    {
     "name": "stdout",
     "output_type": "stream",
     "text": [
      "more than 5 user 40142\n",
      "more than 10 user 19664\n",
      "more than 15 user 13208\n",
      "more than 20 user 9623\n"
     ]
    }
   ],
   "source": [
    "f=0\n",
    "for i in asin:\n",
    "    f+=i[1]\n",
    "    rest=a-f\n",
    "    if i[0]==5:\n",
    "        print(\"more than 5 user\",rest)\n",
    "    if i[0]==10:\n",
    "        print(\"more than 10 user\",rest)\n",
    "    if i[0]==15:\n",
    "        print(\"more than 15 user\",rest)\n",
    "    if i[0]==20:\n",
    "        print(\"more than 20 user\",rest)"
   ]
  },
  {
   "cell_type": "code",
   "execution_count": 252,
   "metadata": {},
   "outputs": [],
   "source": [
    "df2 = data.reviewerID.value_counts()"
   ]
  },
  {
   "cell_type": "code",
   "execution_count": 253,
   "metadata": {},
   "outputs": [],
   "source": [
    "df2.name='times'\n",
    "df2.index.name='reviewerID'"
   ]
  },
  {
   "cell_type": "code",
   "execution_count": 254,
   "metadata": {},
   "outputs": [],
   "source": [
    "t=list(df2)"
   ]
  },
  {
   "cell_type": "code",
   "execution_count": 255,
   "metadata": {},
   "outputs": [],
   "source": [
    "t=list(df2)\n",
    "t.sort()\n",
    "reviewtime=defaultdict(int)\n",
    "for i in t:\n",
    "    reviewtime[i]+=1\n",
    "review=[(x,reviewtime[x]) for x in reviewtime] "
   ]
  },
  {
   "cell_type": "code",
   "execution_count": 256,
   "metadata": {},
   "outputs": [
    {
     "data": {
      "text/plain": [
       "[(1, 602024),\n",
       " (2, 126315),\n",
       " (3, 43707),\n",
       " (4, 21785),\n",
       " (5, 12525),\n",
       " (6, 7774),\n",
       " (7, 5143),\n",
       " (8, 3799),\n",
       " (9, 2799),\n",
       " (10, 2205)]"
      ]
     },
     "execution_count": 256,
     "metadata": {},
     "output_type": "execute_result"
    }
   ],
   "source": [
    "review[:10]"
   ]
  },
  {
   "cell_type": "code",
   "execution_count": 259,
   "metadata": {},
   "outputs": [],
   "source": [
    "X=list()\n",
    "y=list()\n",
    "user=list()\n",
    "a=len(User)\n",
    "b=0\n",
    "for i in review:\n",
    "    b +=(i[1]/a)\n",
    "    c=[i[0]]+[b]\n",
    "    X.append(i[0])\n",
    "    y.append(i[1])\n",
    "    user.append(c)"
   ]
  },
  {
   "cell_type": "code",
   "execution_count": 260,
   "metadata": {},
   "outputs": [
    {
     "name": "stdout",
     "output_type": "stream",
     "text": [
      "more than 5 items 34016\n",
      "more than 10 items 12296\n",
      "more than 15 items 6571\n",
      "more than 20 items 4086\n"
     ]
    }
   ],
   "source": [
    "f=0\n",
    "for i in review:\n",
    "    f+=i[1]\n",
    "    rest=a-f\n",
    "    if i[0]==5:\n",
    "        print(\"more than 5 items\",rest)\n",
    "    if i[0]==10:\n",
    "        print(\"more than 10 items\",rest)\n",
    "    if i[0]==15:\n",
    "        print(\"more than 15 items\",rest)\n",
    "    if i[0]==20:\n",
    "        print(\"more than 20 items\",rest)"
   ]
  },
  {
   "cell_type": "code",
   "execution_count": 27,
   "metadata": {},
   "outputs": [
    {
     "data": {
      "text/plain": [
       "reviewerID\n",
       "A3W4D8XOGLWUN5    1326\n",
       "AQ4B80F0JSBNI      682\n",
       "A1Q0BU32CVOLRA     638\n",
       "A2WQY1B8ZS7QRZ     535\n",
       "A2H3JURQZOHVMB     526\n",
       "Name: times, dtype: int64"
      ]
     },
     "execution_count": 27,
     "metadata": {},
     "output_type": "execute_result"
    }
   ],
   "source": [
    "df2[:5]"
   ]
  },
  {
   "cell_type": "code",
   "execution_count": 266,
   "metadata": {},
   "outputs": [
    {
     "data": {
      "image/png": "[encoded data removed]",
      "text/plain": [
       "<Figure size 432x288 with 2 Axes>"
      ]
     },
     "metadata": {
      "needs_background": "light"
     },
     "output_type": "display_data"
    }
   ],
   "source": [
    "hist, bin_edges, = np.histogram(t, bins=500)\n",
    "width = (bin_edges[1] - bin_edges[0]) * 0.8\n",
    "\n",
    "fig, ax1 = plt.subplots()\n",
    "ax1.bar(bin_edges[1:], hist, width=width, label='Number of user')\n",
    "ax1.set_xlabel(\"Number of items\")\n",
    "ax1.set_ylabel('Number of user')\n",
    "\n",
    "ax2 = ax1.twinx()\n",
    "ax2.set_xlim([0,100])\n",
    "cdf = np.cumsum(hist / sum(hist))\n",
    "ax2.plot(bin_edges[1:], cdf, '-', label='CDF', c='r')\n",
    "ax2.set_ylabel('CDF')\n",
    "plt.grid(axis='y', alpha=0.7, linestyle=':')\n",
    "handles1, labels1 = ax1.get_legend_handles_labels()\n",
    "handles2, labels2 = ax2.get_legend_handles_labels()\n",
    "plt.legend(handles1 + handles2, labels1 + labels2, loc='lower right')\n",
    "plt.title('The Distribution of the Frequency of Users')\n",
    "plt.savefig('user_freq.png',dpi=400,bbox_inches='tight')"
   ]
  },
  {
   "cell_type": "code",
   "execution_count": 103,
   "metadata": {},
   "outputs": [
    {
     "data": {
      "text/html": [
       "<div>\n",
       "<style scoped>\n",
       "    .dataframe tbody tr th:only-of-type {\n",
       "        vertical-align: middle;\n",
       "    }\n",
       "\n",
       "    .dataframe tbody tr th {\n",
       "        vertical-align: top;\n",
       "    }\n",
       "\n",
       "    .dataframe thead th {\n",
       "        text-align: right;\n",
       "    }\n",
       "</style>\n",
       "<table border=\"1\" class=\"dataframe\">\n",
       "  <thead>\n",
       "    <tr style=\"text-align: right;\">\n",
       "      <th></th>\n",
       "      <th>reviewerID</th>\n",
       "      <th>overall</th>\n",
       "      <th>asin</th>\n",
       "    </tr>\n",
       "  </thead>\n",
       "  <tbody>\n",
       "    <tr>\n",
       "      <th>0</th>\n",
       "      <td>A1ZCPG3D3HGRSS</td>\n",
       "      <td>5.0</td>\n",
       "      <td>0001388703</td>\n",
       "    </tr>\n",
       "    <tr>\n",
       "      <th>1</th>\n",
       "      <td>AC2PL52NKPL29</td>\n",
       "      <td>5.0</td>\n",
       "      <td>0001388703</td>\n",
       "    </tr>\n",
       "    <tr>\n",
       "      <th>2</th>\n",
       "      <td>A1SUZXBDZSDQ3A</td>\n",
       "      <td>5.0</td>\n",
       "      <td>0001388703</td>\n",
       "    </tr>\n",
       "    <tr>\n",
       "      <th>3</th>\n",
       "      <td>A3A0W7FZXM0IZW</td>\n",
       "      <td>5.0</td>\n",
       "      <td>0001388703</td>\n",
       "    </tr>\n",
       "    <tr>\n",
       "      <th>4</th>\n",
       "      <td>A12R54MKO17TW0</td>\n",
       "      <td>5.0</td>\n",
       "      <td>0001388703</td>\n",
       "    </tr>\n",
       "    <tr>\n",
       "      <th>...</th>\n",
       "      <td>...</td>\n",
       "      <td>...</td>\n",
       "      <td>...</td>\n",
       "    </tr>\n",
       "    <tr>\n",
       "      <th>1584077</th>\n",
       "      <td>AR3KABMPL5L0O</td>\n",
       "      <td>5.0</td>\n",
       "      <td>B01HJ91P94</td>\n",
       "    </tr>\n",
       "    <tr>\n",
       "      <th>1584078</th>\n",
       "      <td>A2N53GHW73INDH</td>\n",
       "      <td>4.0</td>\n",
       "      <td>B01HJ91P94</td>\n",
       "    </tr>\n",
       "    <tr>\n",
       "      <th>1584079</th>\n",
       "      <td>ABNKLDCCVJKW1</td>\n",
       "      <td>5.0</td>\n",
       "      <td>B01HJ91P94</td>\n",
       "    </tr>\n",
       "    <tr>\n",
       "      <th>1584080</th>\n",
       "      <td>AMWSDABZWFRAT</td>\n",
       "      <td>5.0</td>\n",
       "      <td>B01HJ91IVY</td>\n",
       "    </tr>\n",
       "    <tr>\n",
       "      <th>1584081</th>\n",
       "      <td>A7K5263R5OUIP</td>\n",
       "      <td>5.0</td>\n",
       "      <td>B01HJ91IVY</td>\n",
       "    </tr>\n",
       "  </tbody>\n",
       "</table>\n",
       "<p>1584082 rows × 3 columns</p>\n",
       "</div>"
      ],
      "text/plain": [
       "             reviewerID  overall        asin\n",
       "0        A1ZCPG3D3HGRSS      5.0  0001388703\n",
       "1         AC2PL52NKPL29      5.0  0001388703\n",
       "2        A1SUZXBDZSDQ3A      5.0  0001388703\n",
       "3        A3A0W7FZXM0IZW      5.0  0001388703\n",
       "4        A12R54MKO17TW0      5.0  0001388703\n",
       "...                 ...      ...         ...\n",
       "1584077   AR3KABMPL5L0O      5.0  B01HJ91P94\n",
       "1584078  A2N53GHW73INDH      4.0  B01HJ91P94\n",
       "1584079   ABNKLDCCVJKW1      5.0  B01HJ91P94\n",
       "1584080   AMWSDABZWFRAT      5.0  B01HJ91IVY\n",
       "1584081   A7K5263R5OUIP      5.0  B01HJ91IVY\n",
       "\n",
       "[1584082 rows x 3 columns]"
      ]
     },
     "execution_count": 103,
     "metadata": {},
     "output_type": "execute_result"
    }
   ],
   "source": [
    "data"
   ]
  },
  {
   "cell_type": "raw",
   "metadata": {},
   "source": [
    "datafillna2 = pd.DataFrame()\n",
    "for j in Item:\n",
    "    t = data.asin == j\n",
    "    a = data[t].fillna(data[t].mean())\n",
    "    datafillna2 = datafillna2.append(a)"
   ]
  },
  {
   "cell_type": "code",
   "execution_count": 112,
   "metadata": {},
   "outputs": [],
   "source": [
    "# Split data \n",
    "trainset, valset, testset = np.split(data.sample(frac=1), [int(.66*len(data_U_I)), int(.83*len(data_U_I))])"
   ]
  },
  {
   "cell_type": "code",
   "execution_count": 95,
   "metadata": {},
   "outputs": [],
   "source": [
    "train_user=trainset['reviewerID'].unique()"
   ]
  },
  {
   "cell_type": "raw",
   "metadata": {},
   "source": [
    "data=pd.DataFrame(np.arrange(1500).reshape(500,3)),index=user_500,columns=trainset['asin','overall','style']"
   ]
  },
  {
   "cell_type": "code",
   "execution_count": 19,
   "metadata": {},
   "outputs": [],
   "source": [
    "User = data['reviewerID'].unique()\n",
    "Item = data['asin'].unique()"
   ]
  },
  {
   "cell_type": "code",
   "execution_count": null,
   "metadata": {},
   "outputs": [],
   "source": [
    "len(User)"
   ]
  },
  {
   "cell_type": "code",
   "execution_count": 91,
   "metadata": {},
   "outputs": [],
   "source": [
    "d=User[:500]"
   ]
  },
  {
   "cell_type": "code",
   "execution_count": 83,
   "metadata": {},
   "outputs": [
    {
     "data": {
      "text/plain": [
       "array(['A1ZCPG3D3HGRSS', 'AC2PL52NKPL29', 'A1SUZXBDZSDQ3A',\n",
       "       'A3A0W7FZXM0IZW', 'A12R54MKO17TW0'], dtype=object)"
      ]
     },
     "execution_count": 83,
     "metadata": {},
     "output_type": "execute_result"
    }
   ],
   "source": [
    "User[:5]"
   ]
  },
  {
   "cell_type": "code",
   "execution_count": 70,
   "metadata": {},
   "outputs": [
    {
     "data": {
      "text/html": [
       "<div>\n",
       "<style scoped>\n",
       "    .dataframe tbody tr th:only-of-type {\n",
       "        vertical-align: middle;\n",
       "    }\n",
       "\n",
       "    .dataframe tbody tr th {\n",
       "        vertical-align: top;\n",
       "    }\n",
       "\n",
       "    .dataframe thead th {\n",
       "        text-align: right;\n",
       "    }\n",
       "</style>\n",
       "<table border=\"1\" class=\"dataframe\">\n",
       "  <thead>\n",
       "    <tr style=\"text-align: right;\">\n",
       "      <th></th>\n",
       "      <th>1</th>\n",
       "      <th>2</th>\n",
       "      <th>3</th>\n",
       "    </tr>\n",
       "  </thead>\n",
       "  <tbody>\n",
       "    <tr>\n",
       "      <th>Format</th>\n",
       "      <td>Audio CD</td>\n",
       "      <td>Audio CD</td>\n",
       "      <td>Audio CD</td>\n",
       "    </tr>\n",
       "  </tbody>\n",
       "</table>\n",
       "</div>"
      ],
      "text/plain": [
       "               1         2         3\n",
       "Format  Audio CD  Audio CD  Audio CD"
      ]
     },
     "execution_count": 70,
     "metadata": {},
     "output_type": "execute_result"
    }
   ],
   "source": [
    "A={'1':{'Format': 'Audio CD'},'2':{'Format': 'Audio CD'},'3':{'Format': 'Audio CD'}}\n",
    "pd.DataFrame.from_dict(A)"
   ]
  },
  {
   "cell_type": "code",
   "execution_count": 79,
   "metadata": {},
   "outputs": [
    {
     "data": {
      "text/plain": [
       "' Audio CD'"
      ]
     },
     "execution_count": 79,
     "metadata": {},
     "output_type": "execute_result"
    }
   ],
   "source": [
    "data['style'][:5][1]['Format:']"
   ]
  },
  {
   "cell_type": "code",
   "execution_count": 298,
   "metadata": {},
   "outputs": [],
   "source": [
    "ave_user=list()\n",
    "for i in User:\n",
    "    a=sum(ratingperuser[i]/len(ratingperuser[i]))\n",
    "    ave_user.append(a)"
   ]
  },
  {
   "cell_type": "code",
   "execution_count": 299,
   "metadata": {},
   "outputs": [
    {
     "data": {
      "image/png": "[encoded data removed]",
      "text/plain": [
       "<Figure size 432x288 with 2 Axes>"
      ]
     },
     "metadata": {
      "needs_background": "light"
     },
     "output_type": "display_data"
    }
   ],
   "source": [
    "hist, bin_edges, = np.histogram(averagerating, bins=10)\n",
    "width = (bin_edges[1] - bin_edges[0]) * 0.8\n",
    "\n",
    "fig, ax1 = plt.subplots()\n",
    "ax1.bar(bin_edges[1:], hist, width=width, label='Number of Users')\n",
    "ax1.set_xlabel(\"Average Rating per User\")\n",
    "ax1.set_ylabel('Number of Users')\n",
    "\n",
    "ax2 = ax1.twinx()\n",
    "ax2.set_xlim([0,5.5])\n",
    "cdf = np.cumsum(hist / sum(hist))\n",
    "T=bin_edges[1:]\n",
    "f1= interp1d(T,cdf,kind='cubic')\n",
    "xnew = np.linspace(T.min(),T.max(),5000)\n",
    "ax2.plot(xnew, f1(xnew), '-', label='CDF', c='r')\n",
    "ax2.set_ylabel('CDF')\n",
    "plt.grid(axis='y', alpha=0.7, linestyle=':')\n",
    "handles1, labels1 = ax1.get_legend_handles_labels()\n",
    "handles2, labels2 = ax2.get_legend_handles_labels()\n",
    "plt.legend(handles1 + handles2, labels1 + labels2, loc='upper left')\n",
    "plt.title('the Average Rating of Users')\n",
    "plt.savefig('user_rating.png',dpi=400,bbox_inches='tight')"
   ]
  },
  {
   "cell_type": "code",
   "execution_count": 14,
   "metadata": {},
   "outputs": [
    {
     "data": {
      "text/plain": [
       "3.25"
      ]
     },
     "execution_count": 14,
     "metadata": {},
     "output_type": "execute_result"
    }
   ],
   "source": [
    "sum(ratingperItem[1])/len(ratingperItem[1])"
   ]
  },
  {
   "cell_type": "code",
   "execution_count": 21,
   "metadata": {},
   "outputs": [],
   "source": [
    "from collections import Counter\n",
    "averagerating=list()\n",
    "for i in Item:\n",
    "    a=sum(ratingperItem[i]/len(ratingperItem[i]))\n",
    "    averagerating.append(a)"
   ]
  },
  {
   "cell_type": "code",
   "execution_count": 289,
   "metadata": {},
   "outputs": [],
   "source": [
    "from scipy import interpolate "
   ]
  },
  {
   "cell_type": "code",
   "execution_count": 296,
   "metadata": {},
   "outputs": [
    {
     "data": {
      "image/png": "[encoded data removed]",
      "text/plain": [
       "<Figure size 432x288 with 2 Axes>"
      ]
     },
     "metadata": {
      "needs_background": "light"
     },
     "output_type": "display_data"
    }
   ],
   "source": [
    "hist, bin_edges, = np.histogram(averagerating, bins=10)\n",
    "width = (bin_edges[1] - bin_edges[0]) * 0.8\n",
    "\n",
    "fig, ax1 = plt.subplots()\n",
    "ax1.bar(bin_edges[1:], hist, width=width, label='Number of Items')\n",
    "ax1.set_xlabel(\"Average Rating per Item\")\n",
    "ax1.set_ylabel('Number of Items')\n",
    "\n",
    "ax2 = ax1.twinx()\n",
    "ax2.set_xlim([0,5.5])\n",
    "cdf = np.cumsum(hist / sum(hist))\n",
    "T=bin_edges[1:]\n",
    "f1= interp1d(T,cdf,kind='cubic')\n",
    "xnew = np.linspace(T.min(),T.max(),5000)\n",
    "ax2.plot(xnew, f1(xnew), '-', label='CDF', c='r')\n",
    "ax2.set_ylabel('CDF')\n",
    "plt.grid(axis='y', alpha=0.7, linestyle=':')\n",
    "handles1, labels1 = ax1.get_legend_handles_labels()\n",
    "handles2, labels2 = ax2.get_legend_handles_labels()\n",
    "plt.legend(handles1 + handles2, labels1 + labels2, loc='upper left')\n",
    "plt.title('the Average Rating of Item')\n",
    "plt.savefig('item_rating.png',dpi=400,bbox_inches='tight')"
   ]
  },
  {
   "cell_type": "code",
   "execution_count": 227,
   "metadata": {},
   "outputs": [
    {
     "name": "stdout",
     "output_type": "stream",
     "text": [
      "141758 141758\n",
      "70880 13392\n"
     ]
    }
   ],
   "source": [
    "X_train=list()\n",
    "y_train=list()\n",
    "totalBuy=0\n",
    "return1 = set()\n",
    "count = 0\n",
    "itemCount = defaultdict(int)\n",
    "for l in open('train.txt'):\n",
    "    if l.startswith(\"reviewerID\"):\n",
    "        continue\n",
    "    user,item,labels = l.strip().split(',')\n",
    "    y_train=eval(labels)\n",
    "    u_g=user+ '-' +item\n",
    "    X_train.append(u_g)\n",
    "    itemCount[item] += 1\n",
    "    totalBuy += 1\n",
    "print(len(X_train),totalBuy)    \n",
    "mostPopular = [(itemCount[x], x) for x in itemCount]\n",
    "mostPopular.sort()\n",
    "mostPopular.reverse()    \n",
    "for ic, i in mostPopular:\n",
    "    count += ic\n",
    "    return1.add(i)\n",
    "    if count > 0.5*totalBuy:break\n",
    "print(count,len(return1))"
   ]
  },
  {
   "cell_type": "code",
   "execution_count": 224,
   "metadata": {},
   "outputs": [
    {
     "data": {
      "text/plain": [
       "78656"
      ]
     },
     "execution_count": 224,
     "metadata": {},
     "output_type": "execute_result"
    }
   ],
   "source": [
    "len(mostPopular)"
   ]
  },
  {
   "cell_type": "code",
   "execution_count": 228,
   "metadata": {},
   "outputs": [
    {
     "name": "stdout",
     "output_type": "stream",
     "text": [
      "TP  15010 TN  32573 0.6394705012767101 0.6394705012767101\n",
      "FP  4632 FN  22195 0.3605294987232899\n",
      "0\n"
     ]
    }
   ],
   "source": [
    "X_valid=list()\n",
    "TP=0\n",
    "TN=0\n",
    "FP=0\n",
    "FN=0\n",
    "acc=0\n",
    "predictions = defaultdict(int)\n",
    "for l in open('test.txt'):\n",
    "    if l.startswith(\"reviewerID\"):\n",
    "        continue\n",
    "    user,item,labels = l.strip().split(',')\n",
    "    y_valid=eval(labels)\n",
    "    u_g=user+ '-' +item\n",
    "    X_valid.append(u_g)\n",
    "    if item in return1:\n",
    "        predictions[u_g]=1\n",
    "        count+=1\n",
    "    else:\n",
    "        predictions[u_g]=0  \n",
    "    y_pred=predictions[u_g]\n",
    "    if y_valid==y_pred:\n",
    "        acc+=1\n",
    "        if y_valid==1: TP+=1\n",
    "        else: TN+=1\n",
    "    else:\n",
    "        if y_valid==0: FP+=1\n",
    "        else: FN+=1\n",
    "accuracy=acc/len(X_valid)\n",
    "accuracy2=(TP+TN)/(TP+TN+FP+FN)\n",
    "error=(FP+FN)/(TP+TN+FP+FN)\n",
    "a=len(X_valid)-(TP+TN+FP+FN)\n",
    "print(\"TP \",TP,\"TN \",TN,accuracy,accuracy2)\n",
    "print(\"FP \",FP,\"FN \",FN,error)\n",
    "print(a)"
   ]
  },
  {
   "cell_type": "code",
   "execution_count": 306,
   "metadata": {},
   "outputs": [
    {
     "data": {
      "text/plain": [
       "['A1JJP6UO6OQAZ3-B0000571L9',\n",
       " 'A31KEFQBD3IK4G-B00BQ7EO6C',\n",
       " 'A2MRABB6S0JGL8-B002LD5UFE',\n",
       " 'AXB5TY20YJAB2-B00AR0RBT6',\n",
       " 'A3RF0WE0Q5N3PJ-B000WLOKJ4']"
      ]
     },
     "execution_count": 306,
     "metadata": {},
     "output_type": "execute_result"
    }
   ],
   "source": [
    "X_valid[:5]"
   ]
  },
  {
   "cell_type": "code",
   "execution_count": 380,
   "metadata": {},
   "outputs": [
    {
     "data": {
      "text/plain": [
       "[0.546163150114232,\n",
       " 0.5847197957263809,\n",
       " 0.6184786990995834,\n",
       " 0.6388388657438516,\n",
       " 0.6394705012767101,\n",
       " 0.626474936164494,\n",
       " 0.5772342427093132,\n",
       " 0.5206961429915334,\n",
       " 0.46899610267437175]"
      ]
     },
     "execution_count": 380,
     "metadata": {},
     "output_type": "execute_result"
    }
   ],
   "source": [
    "#popularity\n",
    "threshold=[0.1,0.2,0.3,0.4,0.5,0.6,0.7,0.8,0.9]\n",
    "accuracy_all=list()\n",
    "for j in threshold:\n",
    "    return2 = set()\n",
    "    count = 0\n",
    "    acc=0\n",
    "    for ic, i in mostPopular:\n",
    "        count += ic\n",
    "        return2.add(i)\n",
    "        if count > j*totalBuy: break\n",
    "     #predictions       \n",
    "    predictions = defaultdict(int)\n",
    "    X_valid=list()\n",
    "    for l in open('test.txt'):\n",
    "        if l.startswith(\"reviewerID\"):continue\n",
    "        user,item,labels = l.strip().split(',')\n",
    "        y_valid=eval(labels)\n",
    "        u_g=user+ '-' +item\n",
    "        X_valid.append(u_g)\n",
    "        if item in return2:\n",
    "            predictions[u_g]=1\n",
    "        else:\n",
    "            predictions[u_g]=0  \n",
    "        y_pred=predictions[u_g]\n",
    "        if y_valid==y_pred:\n",
    "            acc+=1\n",
    "    valid_len=len(X_valid)\n",
    "    accuracy=acc/valid_len\n",
    "    accuracy_all.append(accuracy)\n",
    "accuracy_all"
   ]
  },
  {
   "cell_type": "raw",
   "metadata": {},
   "source": [
    "from scipy import interpolate \n",
    "f1= interpolate.interp1d(threshold,accuracy_all,kind='cubic')\n",
    "xnew = np.linspace(0.1,0.9,100)\n",
    "plt.plot(xnew, f1(xnew), '-', label='threshold', c='b')\n",
    "plt.xlabel('threshold')\n",
    "plt.ylabel('accuracy')\n",
    "plt.title('threshold of Popularity')\n",
    "plt.savefig('popularity.png',dpi=400,bbox_inches='tight')"
   ]
  },
  {
   "cell_type": "code",
   "execution_count": 372,
   "metadata": {},
   "outputs": [],
   "source": [
    "a=[0,0.1,0.2,0.3,0.4,0.5,0.6,0.7,0.8,0.9,1]"
   ]
  },
  {
   "cell_type": "code",
   "execution_count": 373,
   "metadata": {},
   "outputs": [],
   "source": [
    "b=[0.5,0.5003,0.5005,0.5080,0.5529, 0.6219, 0.6324,0.5812,0.5276,0.5068,0.5]"
   ]
  },
  {
   "cell_type": "code",
   "execution_count": 378,
   "metadata": {},
   "outputs": [
    {
     "data": {
      "image/png": "[encoded data removed]",
      "text/plain": [
       "<Figure size 432x288 with 1 Axes>"
      ]
     },
     "metadata": {
      "needs_background": "light"
     },
     "output_type": "display_data"
    }
   ],
   "source": [
    "from scipy import interpolate \n",
    "f1= interpolate.interp1d(a,b,kind='cubic')\n",
    "xnew = np.linspace(0,1,100)\n",
    "plt.plot(xnew, f1(xnew), '-', label='threshold', c='r')\n",
    "plt.xlabel('threshold')\n",
    "plt.ylabel('accuracy')\n",
    "plt.title('threshold of SVD++')\n",
    "plt.savefig('SVD++.png',dpi=400,bbox_inches='tight')"
   ]
  },
  {
   "cell_type": "raw",
   "metadata": {},
   "source": [
    "similarity"
   ]
  },
  {
   "cell_type": "code",
   "execution_count": 162,
   "metadata": {},
   "outputs": [],
   "source": [
    "itemsPerUser = data.groupby(['reviewerID'])['asin'].unique()\n",
    "usersPerItem = data.groupby(['asin'])['reviewerID'].unique()\n",
    "user=data.reviewerID.unique()\n",
    "Item=data.asin.unique()"
   ]
  },
  {
   "cell_type": "code",
   "execution_count": 132,
   "metadata": {},
   "outputs": [
    {
     "name": "stdout",
     "output_type": "stream",
     "text": [
      "141758 6571\n"
     ]
    }
   ],
   "source": [
    "usersPerItem = defaultdict(set)\n",
    "itemsPerUser = defaultdict(set)\n",
    "itemCount=defaultdict(int)\n",
    "usercount=defaultdict(int)\n",
    "count=0\n",
    "for l in open('train.txt'):\n",
    "    if l.startswith(\"reviewerID\"):\n",
    "        continue\n",
    "    user,item,labels = l.strip().split(',')\n",
    "    count+=1\n",
    "    usersPerItem[item].add(user)\n",
    "    itemsPerUser[user].add(item)\n",
    "    itemCount[item]+=1\n",
    "    usercount[user]+=1\n",
    "print(count,len(usercount))"
   ]
  },
  {
   "cell_type": "code",
   "execution_count": 182,
   "metadata": {},
   "outputs": [],
   "source": [
    "def Jaccard(s1, s2): #set()!!!\n",
    "    numer = len(s1.intersection(s2))\n",
    "    denom = len(s1.union(s2))\n",
    "    return numer / denom\n",
    "\n",
    "def mostSimilar(i):\n",
    "    similarities = []\n",
    "    users = set(usersPerItem[i])\n",
    "    for i2 in usersPerItem: # For all items\n",
    "        if i2 == i: continue # other than the query\n",
    "        sim = Jaccard(users, set(usersPerItem[i2]))\n",
    "        similarities.append((sim,i2))\n",
    "    similarities.sort(reverse=True)\n",
    "    return similarities[:10]\n",
    "\n",
    "def mostSimilarFast(i):\n",
    "    similarities = []\n",
    "    users = set(usersPerItem[i])\n",
    "    candidateItems = set()\n",
    "    for u in users:\n",
    "        candidateItems = candidateItems.union(set(itemsPerUser[u]))\n",
    "    for i2 in candidateItems:\n",
    "        if i2 == i: continue\n",
    "        sim = Jaccard(users, set(usersPerItem[i2]))\n",
    "        similarities.append((sim,i2))\n",
    "    similarities.sort(reverse=True)\n",
    "    return similarities[:10]"
   ]
  },
  {
   "cell_type": "code",
   "execution_count": 164,
   "metadata": {},
   "outputs": [
    {
     "data": {
      "text/plain": [
       "456992"
      ]
     },
     "execution_count": 164,
     "metadata": {},
     "output_type": "execute_result"
    }
   ],
   "source": [
    "len(usersPerItem)"
   ]
  },
  {
   "cell_type": "code",
   "execution_count": 183,
   "metadata": {},
   "outputs": [
    {
     "data": {
      "text/plain": [
       "[(0.5, 'B00B4JTMVE'),\n",
       " (0.5, 'B0057R8ZIA'),\n",
       " (0.5, 'B003XEEP74'),\n",
       " (0.5, 'B00320RSH8'),\n",
       " (0.5, 'B002W84X2O'),\n",
       " (0.5, 'B001EW4H3O'),\n",
       " (0.5, 'B001DME0IM'),\n",
       " (0.5, 'B001A3WASG'),\n",
       " (0.5, 'B0013QUKBO'),\n",
       " (0.3333333333333333, 'B004JKKPY8')]"
      ]
     },
     "execution_count": 183,
     "metadata": {},
     "output_type": "execute_result"
    }
   ],
   "source": [
    "mostSimilarFast('B000CQQXSU')"
   ]
  },
  {
   "cell_type": "code",
   "execution_count": 181,
   "metadata": {},
   "outputs": [
    {
     "name": "stdout",
     "output_type": "stream",
     "text": [
      "{'A22U6SSRSCIE4V', 'A12R54MKO17TW0'}\n"
     ]
    }
   ],
   "source": [
    "a=set(usersPerItem['B000CQQXSU'])\n",
    "print(a)"
   ]
  },
  {
   "cell_type": "code",
   "execution_count": 179,
   "metadata": {},
   "outputs": [],
   "source": [
    "b=set(itemsPerUser['A22U6SSRSCIE4V'])\n",
    "p"
   ]
  },
  {
   "cell_type": "code",
   "execution_count": 180,
   "metadata": {},
   "outputs": [
    {
     "data": {
      "text/plain": [
       "0.0"
      ]
     },
     "execution_count": 180,
     "metadata": {},
     "output_type": "execute_result"
    }
   ],
   "source": [
    "Jaccard(a, b)"
   ]
  },
  {
   "cell_type": "code",
   "execution_count": 233,
   "metadata": {},
   "outputs": [],
   "source": [
    "itemsPerUser1 = df_train.groupby(['reviewerID'])['asin'].unique()\n",
    "usersPerItem1 = df_train.groupby(['asin'])['reviewerID'].unique()"
   ]
  },
  {
   "cell_type": "code",
   "execution_count": 219,
   "metadata": {},
   "outputs": [
    {
     "name": "stdout",
     "output_type": "stream",
     "text": [
      "1\n"
     ]
    }
   ],
   "source": [
    "values = [0,1]\n",
    "a=random.choice(values)\n",
    "print(a)"
   ]
  },
  {
   "cell_type": "code",
   "execution_count": 261,
   "metadata": {},
   "outputs": [],
   "source": [
    "acc=0\n",
    "X_valid=list()\n",
    "y_valid=list()\n",
    "jacar_sim=list()\n",
    "for l in open('validation.txt'):\n",
    "    if l.startswith(\"reviewerID\"):continue\n",
    "    user,item,labels = l.strip().split(',')\n",
    "    u_g=user+ '-' +item\n",
    "    X_valid.append(u_g)\n",
    "    y_valid.append(eval(labels))\n",
    "    simcom=0\n",
    "    try:\n",
    "        user1=set(usersPerItem1[item])\n",
    "        g2=set(itemsPerUser1[user])\n",
    "        for i in g2:\n",
    "            if i == item: continue\n",
    "            user2=set(usersPerItem1[i])\n",
    "            sim=Jaccard(user1, user2)\n",
    "            simcom+=sim\n",
    "    except:\n",
    "        values=[0,1]\n",
    "        simcom=random.choice(values)\n",
    "    simcom/len(g2)\n",
    "    jacar_sim.append(simcom)"
   ]
  },
  {
   "cell_type": "code",
   "execution_count": 221,
   "metadata": {},
   "outputs": [
    {
     "name": "stdout",
     "output_type": "stream",
     "text": [
      "0.6254535680688079\n"
     ]
    }
   ],
   "source": [
    "print(accuracy)"
   ]
  },
  {
   "cell_type": "code",
   "execution_count": 271,
   "metadata": {},
   "outputs": [
    {
     "name": "stdout",
     "output_type": "stream",
     "text": [
      "0.5611476952022577\n"
     ]
    }
   ],
   "source": [
    "acc=0\n",
    "y2=list()\n",
    "predictions=defaultdict(int)\n",
    "for i in range(len(X_valid)):\n",
    "    x=X_valid[i]\n",
    "    y=y_valid[i]\n",
    "    sim=jacar_sim[i]\n",
    "    if sim<0.9:\n",
    "        predictions[x]=0 \n",
    "    else:\n",
    "        predictions[x]=1\n",
    "    y_pred=predictions[x]\n",
    "    y2.append(y_pred)\n",
    "    if y==y_pred:\n",
    "        acc+=1 \n",
    "accuracy=acc/len(X_valid)\n",
    "print(accuracy)"
   ]
  },
  {
   "cell_type": "code",
   "execution_count": 274,
   "metadata": {},
   "outputs": [
    {
     "data": {
      "image/png": "[encoded data removed]",
      "text/plain": [
       "<Figure size 432x288 with 1 Axes>"
      ]
     },
     "metadata": {
      "needs_background": "light"
     },
     "output_type": "display_data"
    }
   ],
   "source": [
    "threshold=[0.01,0.03,0.05,0.07,0.1,0.2,0.3,0.4,0.5,0.9]\n",
    "accracy1=[0.6610,0.6538,0.6445,0.6351,0.6232,0.5985,0.5849,0.5776,0.5733,0.5611]\n",
    "plt.plot(threshold, accracy1)\n",
    "plt.xlabel('threshold')\n",
    "plt.ylabel('accuracy')\n",
    "plt.title('threshold of Jaccard similarity')\n",
    "plt.savefig('similarity.png',dpi=400,bbox_inches='tight')"
   ]
  },
  {
   "cell_type": "code",
   "execution_count": 217,
   "metadata": {},
   "outputs": [
    {
     "data": {
      "text/plain": [
       "[0, 0, 0, 0, 0, 0, 1, 0, 1, 0]"
      ]
     },
     "execution_count": 217,
     "metadata": {},
     "output_type": "execute_result"
    }
   ],
   "source": [
    "y2[:10]"
   ]
  },
  {
   "cell_type": "code",
   "execution_count": 243,
   "metadata": {},
   "outputs": [
    {
     "data": {
      "text/plain": [
       "[0.0,\n",
       " 0.0,\n",
       " 0.0,\n",
       " 0.0,\n",
       " 0.0,\n",
       " 0.0,\n",
       " 0.0029069767441860465,\n",
       " 0.0,\n",
       " 0.006802721088435374,\n",
       " 0.0]"
      ]
     },
     "execution_count": 243,
     "metadata": {},
     "output_type": "execute_result"
    }
   ],
   "source": [
    "jacar_sim[:10]"
   ]
  },
  {
   "cell_type": "code",
   "execution_count": 205,
   "metadata": {},
   "outputs": [
    {
     "data": {
      "text/plain": [
       "[1, 0.0, 0.0, 1, 1, 0.0, 0.125, 0.0, 0.3333333333333333, 0.0]"
      ]
     },
     "execution_count": 205,
     "metadata": {},
     "output_type": "execute_result"
    }
   ],
   "source": [
    "jacar_sim[:10]"
   ]
  },
  {
   "cell_type": "raw",
   "metadata": {},
   "source": [
    "# 0: 0.5833624512834297\n",
    "# 1：0.6663"
   ]
  },
  {
   "cell_type": "code",
   "execution_count": 155,
   "metadata": {},
   "outputs": [
    {
     "name": "stdout",
     "output_type": "stream",
     "text": [
      "74410\n"
     ]
    }
   ],
   "source": [
    "cou=0\n",
    "usex=list()\n",
    "for j in item2:\n",
    "    try:\n",
    "        user1=usersPerItem[j]\n",
    "        usex.append(use1)\n",
    "    except:\n",
    "        cou+=1\n",
    "        continue\n",
    "print(cou)"
   ]
  },
  {
   "cell_type": "code",
   "execution_count": 146,
   "metadata": {},
   "outputs": [
    {
     "data": {
      "text/plain": [
       "74410"
      ]
     },
     "execution_count": 146,
     "metadata": {},
     "output_type": "execute_result"
    }
   ],
   "source": [
    "len(X_valid)"
   ]
  },
  {
   "cell_type": "code",
   "execution_count": 98,
   "metadata": {},
   "outputs": [
    {
     "name": "stdout",
     "output_type": "stream",
     "text": [
      "0\n"
     ]
    }
   ],
   "source": [
    "count=0\n",
    "acc=0\n",
    "X_valid=list()\n",
    "y_valid=list()\n",
    "jacar_sim=list()\n",
    "for l in open('validation.txt'):\n",
    "    if l.startswith(\"reviewerID\"):continue\n",
    "    user,item,labels = l.strip().split(',')\n",
    "    u_g=user+ '-' +item\n",
    "    X_valid.append(u_g)\n",
    "    y_valid.append(eval(labels))\n",
    "    simcou=0\n",
    "    try: \n",
    "        sim=np.mean(mostSimilar(item))\n",
    "        simcou+=1\n",
    "    except:\n",
    "        sim=0\n",
    "    jacar_sim.append(sim)\n",
    "print(simcou)"
   ]
  },
  {
   "cell_type": "code",
   "execution_count": 97,
   "metadata": {},
   "outputs": [
    {
     "data": {
      "text/plain": [
       "[0, 0, 0, 0, 0, 0, 0, 0, 0, 0]"
      ]
     },
     "execution_count": 97,
     "metadata": {},
     "output_type": "execute_result"
    }
   ],
   "source": [
    "jacar_sim[:10]"
   ]
  },
  {
   "cell_type": "raw",
   "metadata": {},
   "source": [
    "item_vector"
   ]
  },
  {
   "cell_type": "code",
   "execution_count": 197,
   "metadata": {},
   "outputs": [],
   "source": [
    "df = pd.read_csv('U_I_R_t.csv')\n",
    "df_train=pd.DataFrame(df)"
   ]
  },
  {
   "cell_type": "code",
   "execution_count": 198,
   "metadata": {},
   "outputs": [
    {
     "data": {
      "text/html": [
       "<div>\n",
       "<style scoped>\n",
       "    .dataframe tbody tr th:only-of-type {\n",
       "        vertical-align: middle;\n",
       "    }\n",
       "\n",
       "    .dataframe tbody tr th {\n",
       "        vertical-align: top;\n",
       "    }\n",
       "\n",
       "    .dataframe thead th {\n",
       "        text-align: right;\n",
       "    }\n",
       "</style>\n",
       "<table border=\"1\" class=\"dataframe\">\n",
       "  <thead>\n",
       "    <tr style=\"text-align: right;\">\n",
       "      <th></th>\n",
       "      <th>reviewerID</th>\n",
       "      <th>asin</th>\n",
       "      <th>overall</th>\n",
       "    </tr>\n",
       "  </thead>\n",
       "  <tbody>\n",
       "    <tr>\n",
       "      <th>0</th>\n",
       "      <td>A12R54MKO17TW0</td>\n",
       "      <td>B001BHWEAA</td>\n",
       "      <td>3.0</td>\n",
       "    </tr>\n",
       "    <tr>\n",
       "      <th>1</th>\n",
       "      <td>A12R54MKO17TW0</td>\n",
       "      <td>B01929H4VM</td>\n",
       "      <td>5.0</td>\n",
       "    </tr>\n",
       "    <tr>\n",
       "      <th>2</th>\n",
       "      <td>A12R54MKO17TW0</td>\n",
       "      <td>B001PJ5SX4</td>\n",
       "      <td>4.0</td>\n",
       "    </tr>\n",
       "    <tr>\n",
       "      <th>3</th>\n",
       "      <td>A12R54MKO17TW0</td>\n",
       "      <td>B0045QJ7UO</td>\n",
       "      <td>4.0</td>\n",
       "    </tr>\n",
       "    <tr>\n",
       "      <th>4</th>\n",
       "      <td>A12R54MKO17TW0</td>\n",
       "      <td>B000CQQXSU</td>\n",
       "      <td>5.0</td>\n",
       "    </tr>\n",
       "    <tr>\n",
       "      <th>...</th>\n",
       "      <td>...</td>\n",
       "      <td>...</td>\n",
       "      <td>...</td>\n",
       "    </tr>\n",
       "    <tr>\n",
       "      <th>141753</th>\n",
       "      <td>A3MJPZOZZN14V5</td>\n",
       "      <td>B00NV759YG</td>\n",
       "      <td>5.0</td>\n",
       "    </tr>\n",
       "    <tr>\n",
       "      <th>141754</th>\n",
       "      <td>A3MJPZOZZN14V5</td>\n",
       "      <td>B00PL45RP8</td>\n",
       "      <td>5.0</td>\n",
       "    </tr>\n",
       "    <tr>\n",
       "      <th>141755</th>\n",
       "      <td>A3MJPZOZZN14V5</td>\n",
       "      <td>B00PL45Q3Q</td>\n",
       "      <td>5.0</td>\n",
       "    </tr>\n",
       "    <tr>\n",
       "      <th>141756</th>\n",
       "      <td>A3MJPZOZZN14V5</td>\n",
       "      <td>B00R9699RS</td>\n",
       "      <td>5.0</td>\n",
       "    </tr>\n",
       "    <tr>\n",
       "      <th>141757</th>\n",
       "      <td>A3MJPZOZZN14V5</td>\n",
       "      <td>B00SRT0LQY</td>\n",
       "      <td>5.0</td>\n",
       "    </tr>\n",
       "  </tbody>\n",
       "</table>\n",
       "<p>141758 rows × 3 columns</p>\n",
       "</div>"
      ],
      "text/plain": [
       "            reviewerID        asin  overall\n",
       "0       A12R54MKO17TW0  B001BHWEAA      3.0\n",
       "1       A12R54MKO17TW0  B01929H4VM      5.0\n",
       "2       A12R54MKO17TW0  B001PJ5SX4      4.0\n",
       "3       A12R54MKO17TW0  B0045QJ7UO      4.0\n",
       "4       A12R54MKO17TW0  B000CQQXSU      5.0\n",
       "...                ...         ...      ...\n",
       "141753  A3MJPZOZZN14V5  B00NV759YG      5.0\n",
       "141754  A3MJPZOZZN14V5  B00PL45RP8      5.0\n",
       "141755  A3MJPZOZZN14V5  B00PL45Q3Q      5.0\n",
       "141756  A3MJPZOZZN14V5  B00R9699RS      5.0\n",
       "141757  A3MJPZOZZN14V5  B00SRT0LQY      5.0\n",
       "\n",
       "[141758 rows x 3 columns]"
      ]
     },
     "execution_count": 198,
     "metadata": {},
     "output_type": "execute_result"
    }
   ],
   "source": [
    "df_train"
   ]
  },
  {
   "cell_type": "code",
   "execution_count": 10,
   "metadata": {},
   "outputs": [],
   "source": [
    "def rating_splitter(df):\n",
    "    \n",
    "    df['liked'] = np.where(df['overall']>=4, 1, 0)\n",
    "    df['item'] = df['asin'].astype('str')\n",
    "    gp_user_like = df.groupby(['liked', 'reviewerID'])\n",
    "\n",
    "    return ([gp_user_like.get_group(gp)['asin'].tolist() for gp in gp_user_like.groups])"
   ]
  },
  {
   "cell_type": "code",
   "execution_count": 11,
   "metadata": {},
   "outputs": [],
   "source": [
    "pd.options.mode.chained_assignment = None\n",
    "splitted_items = rating_splitter(df_train)"
   ]
  },
  {
   "cell_type": "code",
   "execution_count": 57,
   "metadata": {},
   "outputs": [
    {
     "name": "stdout",
     "output_type": "stream",
     "text": [
      "Looking in indexes: https://pypi.tuna.tsinghua.edu.cn/simple\n",
      "Collecting gensim\n",
      "  Downloading https://pypi.tuna.tsinghua.edu.cn/packages/fa/1b/766a9d677c5e4e7dd2178b37fa47248dac9d04c22dd069831f415b665048/gensim-3.8.3-cp38-cp38-macosx_10_9_x86_64.whl (24.2 MB)\n",
      "\u001b[K     |████████████████████████████████| 24.2 MB 555 kB/s eta 0:00:01\n",
      "\u001b[?25hCollecting smart-open>=1.8.1\n",
      "  Downloading https://pypi.tuna.tsinghua.edu.cn/packages/e3/cf/6311dfb0aff3e295d63930dea72e3029800242cdfe0790478e33eccee2ab/smart_open-4.0.1.tar.gz (117 kB)\n",
      "\u001b[K     |████████████████████████████████| 117 kB 10.8 MB/s eta 0:00:01\n",
      "\u001b[?25hRequirement already satisfied: numpy>=1.11.3 in /Applications/anaconda3/lib/python3.8/site-packages (from gensim) (1.18.5)\n",
      "Requirement already satisfied: scipy>=0.18.1 in /Applications/anaconda3/lib/python3.8/site-packages (from gensim) (1.5.0)\n",
      "Requirement already satisfied: six>=1.5.0 in /Applications/anaconda3/lib/python3.8/site-packages (from gensim) (1.15.0)\n",
      "Building wheels for collected packages: smart-open\n",
      "  Building wheel for smart-open (setup.py) ... \u001b[?25ldone\n",
      "\u001b[?25h  Created wheel for smart-open: filename=smart_open-4.0.1-py3-none-any.whl size=108249 sha256=b1c11618362c41a4c349a4e1776170bfe0553f29718d9978a88232a7c48b4549\n",
      "  Stored in directory: /Users/daisy/Library/Caches/pip/wheels/5f/d5/13/14376c8ad3870435736a4fe1d664922ceb74585dc4a7ca2462\n",
      "Successfully built smart-open\n",
      "Installing collected packages: smart-open, gensim\n",
      "Successfully installed gensim-3.8.3 smart-open-4.0.1\n",
      "Note: you may need to restart the kernel to use updated packages.\n"
     ]
    }
   ],
   "source": [
    "pip install -i https://pypi.tuna.tsinghua.edu.cn/simple gensim"
   ]
  },
  {
   "cell_type": "code",
   "execution_count": 12,
   "metadata": {},
   "outputs": [],
   "source": [
    "import warnings\n",
    "warnings.filterwarnings(action='ignore', category=UserWarning, module='gensim')\n",
    "\n",
    "import gensim\n",
    "assert gensim.models.word2vec.FAST_VERSION > -1"
   ]
  },
  {
   "cell_type": "code",
   "execution_count": 13,
   "metadata": {},
   "outputs": [
    {
     "name": "stdout",
     "output_type": "stream",
     "text": [
      "Time passed: 0:02:28.062570\n"
     ]
    }
   ],
   "source": [
    "from gensim.models import Word2Vec  #word2Vec model\n",
    "import datetime\n",
    "start = datetime.datetime.now()\n",
    "\n",
    "model = Word2Vec(sentences = splitted_items, # We will supply the pre-processed list of moive lists to this parameter\n",
    "                 iter = 50, # epoch\n",
    "                 min_count = 1, # a movie has to appear more than 10 times to be keeped\n",
    "                 size = 64, # size of the hidden layer\n",
    "                 workers = 4, # specify the number of threads to be used for training\n",
    "                 sg = 1, # Defines the training algorithm. We will use skip-gram so 1 is chosen.\n",
    "                 hs = 0, # Set to 0, as we are applying negative sampling.\n",
    "                 negative = 5, # If > 0, negative sampling will be used. We will use a value of 5.\n",
    "                 window = 9999999)\n",
    "\n",
    "print(\"Time passed: \" + str(datetime.datetime.now()-start))\n",
    "model.save('item2vec_50_64')"
   ]
  },
  {
   "cell_type": "code",
   "execution_count": 383,
   "metadata": {},
   "outputs": [],
   "source": [
    "import warnings\n",
    "warnings.filterwarnings(action='ignore', category=UserWarning, module='gensim')\n",
    "\n",
    "from gensim.models import Word2Vec\n",
    "model = Word2Vec.load('item2vec_50_64')\n",
    "word_vectors = model.wv\n",
    "vectors = model.wv.vectors\n",
    "# del model # uncomment this line will delete the model"
   ]
  },
  {
   "cell_type": "code",
   "execution_count": 384,
   "metadata": {},
   "outputs": [],
   "source": [
    "import json"
   ]
  },
  {
   "cell_type": "code",
   "execution_count": 37,
   "metadata": {},
   "outputs": [
    {
     "data": {
      "text/plain": [
       "21"
      ]
     },
     "execution_count": 37,
     "metadata": {},
     "output_type": "execute_result"
    }
   ],
   "source": [
    "i=itemsPerUser[u].tolist()\n",
    "userperFea=dict()\n",
    "for i in item_less:\n",
    "    for p in i:\n",
    "        vec=model.wv[p]\n",
    "        item_vec[p]=vec.tolist()#array---list\n",
    "print(type(item_vec))\n",
    "json_str = json.dumps(item_vec) #dict--python\n",
    "with open('item_vec3.json', 'w') as f:\n",
    "    f.write(json_str) #item_vec3 10000 item_vec2 1000"
   ]
  },
  {
   "cell_type": "code",
   "execution_count": 390,
   "metadata": {},
   "outputs": [
    {
     "name": "stdout",
     "output_type": "stream",
     "text": [
      "100\n",
      "<class 'dict'>\n"
     ]
    }
   ],
   "source": [
    "user=df_train['reviewerID'].unique().tolist()\n",
    "itemsPerUser = df_train.groupby(['reviewerID'])['asin'].unique()\n",
    "random.shuffle(user)\n",
    "item_less=list()\n",
    "a=0\n",
    "for u in user[:100]:\n",
    "    pq=itemsPerUser[u].tolist()\n",
    "    item_less.append(pq)\n",
    "    a+=1\n",
    "print(a)\n",
    "cou=0\n",
    "item_vec=dict()\n",
    "for j in user[:100]:\n",
    "    cou+=1\n",
    "    for p in itemsPerUser[j].tolist():\n",
    "        user2.append(j)\n",
    "for i in item_less:\n",
    "    for q in i:\n",
    "        vec=model.wv[q]\n",
    "        item_vec[q]=vec.tolist()#array---list\n",
    "print(type(item_vec))\n",
    "json_str = json.dumps(item_vec) #dict--python\n",
    "with open('u_i_vec2.json', 'w') as f:\n",
    "    f.write(json_str) #u_item_vec 10000 item_vec2 1000"
   ]
  },
  {
   "cell_type": "code",
   "execution_count": 391,
   "metadata": {},
   "outputs": [],
   "source": [
    "cou=0\n",
    "user2=list()\n",
    "for j in user[:100]:\n",
    "    cou+=1\n",
    "    for p in itemsPerUser[j].tolist():\n",
    "        user2.append(cou)"
   ]
  },
  {
   "cell_type": "raw",
   "metadata": {},
   "source": [
    "user2"
   ]
  },
  {
   "cell_type": "code",
   "execution_count": 392,
   "metadata": {},
   "outputs": [],
   "source": [
    "labels=pd.Series(user2)\n",
    "labels.name='label'\n",
    "labels.index.name='index'"
   ]
  },
  {
   "cell_type": "code",
   "execution_count": 395,
   "metadata": {},
   "outputs": [
    {
     "data": {
      "image/png": "[encoded data removed]",
      "text/plain": [
       "<Figure size 432x288 with 1 Axes>"
      ]
     },
     "metadata": {
      "needs_background": "light"
     },
     "output_type": "display_data"
    },
    {
     "name": "stderr",
     "output_type": "stream",
     "text": [
      "*c* argument looks like a single numeric RGB or RGBA sequence, which should be avoided as value-mapping will have precedence in case its length matches with *x* & *y*.  Please use the *color* keyword-argument or provide a 2-D array with a single row if you intend to specify the same RGB or RGBA value for all points.\n",
      "*c* argument looks like a single numeric RGB or RGBA sequence, which should be avoided as value-mapping will have precedence in case its length matches with *x* & *y*.  Please use the *color* keyword-argument or provide a 2-D array with a single row if you intend to specify the same RGB or RGBA value for all points.\n",
      "*c* argument looks like a single numeric RGB or RGBA sequence, which should be avoided as value-mapping will have precedence in case its length matches with *x* & *y*.  Please use the *color* keyword-argument or provide a 2-D array with a single row if you intend to specify the same RGB or RGBA value for all points.\n",
      "*c* argument looks like a single numeric RGB or RGBA sequence, which should be avoided as value-mapping will have precedence in case its length matches with *x* & *y*.  Please use the *color* keyword-argument or provide a 2-D array with a single row if you intend to specify the same RGB or RGBA value for all points.\n",
      "*c* argument looks like a single numeric RGB or RGBA sequence, which should be avoided as value-mapping will have precedence in case its length matches with *x* & *y*.  Please use the *color* keyword-argument or provide a 2-D array with a single row if you intend to specify the same RGB or RGBA value for all points.\n",
      "*c* argument looks like a single numeric RGB or RGBA sequence, which should be avoided as value-mapping will have precedence in case its length matches with *x* & *y*.  Please use the *color* keyword-argument or provide a 2-D array with a single row if you intend to specify the same RGB or RGBA value for all points.\n",
      "*c* argument looks like a single numeric RGB or RGBA sequence, which should be avoided as value-mapping will have precedence in case its length matches with *x* & *y*.  Please use the *color* keyword-argument or provide a 2-D array with a single row if you intend to specify the same RGB or RGBA value for all points.\n",
      "*c* argument looks like a single numeric RGB or RGBA sequence, which should be avoided as value-mapping will have precedence in case its length matches with *x* & *y*.  Please use the *color* keyword-argument or provide a 2-D array with a single row if you intend to specify the same RGB or RGBA value for all points.\n",
      "*c* argument looks like a single numeric RGB or RGBA sequence, which should be avoided as value-mapping will have precedence in case its length matches with *x* & *y*.  Please use the *color* keyword-argument or provide a 2-D array with a single row if you intend to specify the same RGB or RGBA value for all points.\n",
      "*c* argument looks like a single numeric RGB or RGBA sequence, which should be avoided as value-mapping will have precedence in case its length matches with *x* & *y*.  Please use the *color* keyword-argument or provide a 2-D array with a single row if you intend to specify the same RGB or RGBA value for all points.\n",
      "*c* argument looks like a single numeric RGB or RGBA sequence, which should be avoided as value-mapping will have precedence in case its length matches with *x* & *y*.  Please use the *color* keyword-argument or provide a 2-D array with a single row if you intend to specify the same RGB or RGBA value for all points.\n",
      "*c* argument looks like a single numeric RGB or RGBA sequence, which should be avoided as value-mapping will have precedence in case its length matches with *x* & *y*.  Please use the *color* keyword-argument or provide a 2-D array with a single row if you intend to specify the same RGB or RGBA value for all points.\n",
      "*c* argument looks like a single numeric RGB or RGBA sequence, which should be avoided as value-mapping will have precedence in case its length matches with *x* & *y*.  Please use the *color* keyword-argument or provide a 2-D array with a single row if you intend to specify the same RGB or RGBA value for all points.\n",
      "*c* argument looks like a single numeric RGB or RGBA sequence, which should be avoided as value-mapping will have precedence in case its length matches with *x* & *y*.  Please use the *color* keyword-argument or provide a 2-D array with a single row if you intend to specify the same RGB or RGBA value for all points.\n",
      "*c* argument looks like a single numeric RGB or RGBA sequence, which should be avoided as value-mapping will have precedence in case its length matches with *x* & *y*.  Please use the *color* keyword-argument or provide a 2-D array with a single row if you intend to specify the same RGB or RGBA value for all points.\n",
      "*c* argument looks like a single numeric RGB or RGBA sequence, which should be avoided as value-mapping will have precedence in case its length matches with *x* & *y*.  Please use the *color* keyword-argument or provide a 2-D array with a single row if you intend to specify the same RGB or RGBA value for all points.\n",
      "*c* argument looks like a single numeric RGB or RGBA sequence, which should be avoided as value-mapping will have precedence in case its length matches with *x* & *y*.  Please use the *color* keyword-argument or provide a 2-D array with a single row if you intend to specify the same RGB or RGBA value for all points.\n",
      "*c* argument looks like a single numeric RGB or RGBA sequence, which should be avoided as value-mapping will have precedence in case its length matches with *x* & *y*.  Please use the *color* keyword-argument or provide a 2-D array with a single row if you intend to specify the same RGB or RGBA value for all points.\n",
      "*c* argument looks like a single numeric RGB or RGBA sequence, which should be avoided as value-mapping will have precedence in case its length matches with *x* & *y*.  Please use the *color* keyword-argument or provide a 2-D array with a single row if you intend to specify the same RGB or RGBA value for all points.\n",
      "*c* argument looks like a single numeric RGB or RGBA sequence, which should be avoided as value-mapping will have precedence in case its length matches with *x* & *y*.  Please use the *color* keyword-argument or provide a 2-D array with a single row if you intend to specify the same RGB or RGBA value for all points.\n",
      "*c* argument looks like a single numeric RGB or RGBA sequence, which should be avoided as value-mapping will have precedence in case its length matches with *x* & *y*.  Please use the *color* keyword-argument or provide a 2-D array with a single row if you intend to specify the same RGB or RGBA value for all points.\n",
      "*c* argument looks like a single numeric RGB or RGBA sequence, which should be avoided as value-mapping will have precedence in case its length matches with *x* & *y*.  Please use the *color* keyword-argument or provide a 2-D array with a single row if you intend to specify the same RGB or RGBA value for all points.\n",
      "*c* argument looks like a single numeric RGB or RGBA sequence, which should be avoided as value-mapping will have precedence in case its length matches with *x* & *y*.  Please use the *color* keyword-argument or provide a 2-D array with a single row if you intend to specify the same RGB or RGBA value for all points.\n",
      "*c* argument looks like a single numeric RGB or RGBA sequence, which should be avoided as value-mapping will have precedence in case its length matches with *x* & *y*.  Please use the *color* keyword-argument or provide a 2-D array with a single row if you intend to specify the same RGB or RGBA value for all points.\n",
      "*c* argument looks like a single numeric RGB or RGBA sequence, which should be avoided as value-mapping will have precedence in case its length matches with *x* & *y*.  Please use the *color* keyword-argument or provide a 2-D array with a single row if you intend to specify the same RGB or RGBA value for all points.\n",
      "*c* argument looks like a single numeric RGB or RGBA sequence, which should be avoided as value-mapping will have precedence in case its length matches with *x* & *y*.  Please use the *color* keyword-argument or provide a 2-D array with a single row if you intend to specify the same RGB or RGBA value for all points.\n",
      "*c* argument looks like a single numeric RGB or RGBA sequence, which should be avoided as value-mapping will have precedence in case its length matches with *x* & *y*.  Please use the *color* keyword-argument or provide a 2-D array with a single row if you intend to specify the same RGB or RGBA value for all points.\n",
      "*c* argument looks like a single numeric RGB or RGBA sequence, which should be avoided as value-mapping will have precedence in case its length matches with *x* & *y*.  Please use the *color* keyword-argument or provide a 2-D array with a single row if you intend to specify the same RGB or RGBA value for all points.\n",
      "*c* argument looks like a single numeric RGB or RGBA sequence, which should be avoided as value-mapping will have precedence in case its length matches with *x* & *y*.  Please use the *color* keyword-argument or provide a 2-D array with a single row if you intend to specify the same RGB or RGBA value for all points.\n",
      "*c* argument looks like a single numeric RGB or RGBA sequence, which should be avoided as value-mapping will have precedence in case its length matches with *x* & *y*.  Please use the *color* keyword-argument or provide a 2-D array with a single row if you intend to specify the same RGB or RGBA value for all points.\n",
      "*c* argument looks like a single numeric RGB or RGBA sequence, which should be avoided as value-mapping will have precedence in case its length matches with *x* & *y*.  Please use the *color* keyword-argument or provide a 2-D array with a single row if you intend to specify the same RGB or RGBA value for all points.\n",
      "*c* argument looks like a single numeric RGB or RGBA sequence, which should be avoided as value-mapping will have precedence in case its length matches with *x* & *y*.  Please use the *color* keyword-argument or provide a 2-D array with a single row if you intend to specify the same RGB or RGBA value for all points.\n",
      "*c* argument looks like a single numeric RGB or RGBA sequence, which should be avoided as value-mapping will have precedence in case its length matches with *x* & *y*.  Please use the *color* keyword-argument or provide a 2-D array with a single row if you intend to specify the same RGB or RGBA value for all points.\n",
      "*c* argument looks like a single numeric RGB or RGBA sequence, which should be avoided as value-mapping will have precedence in case its length matches with *x* & *y*.  Please use the *color* keyword-argument or provide a 2-D array with a single row if you intend to specify the same RGB or RGBA value for all points.\n",
      "*c* argument looks like a single numeric RGB or RGBA sequence, which should be avoided as value-mapping will have precedence in case its length matches with *x* & *y*.  Please use the *color* keyword-argument or provide a 2-D array with a single row if you intend to specify the same RGB or RGBA value for all points.\n",
      "*c* argument looks like a single numeric RGB or RGBA sequence, which should be avoided as value-mapping will have precedence in case its length matches with *x* & *y*.  Please use the *color* keyword-argument or provide a 2-D array with a single row if you intend to specify the same RGB or RGBA value for all points.\n",
      "*c* argument looks like a single numeric RGB or RGBA sequence, which should be avoided as value-mapping will have precedence in case its length matches with *x* & *y*.  Please use the *color* keyword-argument or provide a 2-D array with a single row if you intend to specify the same RGB or RGBA value for all points.\n",
      "*c* argument looks like a single numeric RGB or RGBA sequence, which should be avoided as value-mapping will have precedence in case its length matches with *x* & *y*.  Please use the *color* keyword-argument or provide a 2-D array with a single row if you intend to specify the same RGB or RGBA value for all points.\n",
      "*c* argument looks like a single numeric RGB or RGBA sequence, which should be avoided as value-mapping will have precedence in case its length matches with *x* & *y*.  Please use the *color* keyword-argument or provide a 2-D array with a single row if you intend to specify the same RGB or RGBA value for all points.\n",
      "*c* argument looks like a single numeric RGB or RGBA sequence, which should be avoided as value-mapping will have precedence in case its length matches with *x* & *y*.  Please use the *color* keyword-argument or provide a 2-D array with a single row if you intend to specify the same RGB or RGBA value for all points.\n",
      "*c* argument looks like a single numeric RGB or RGBA sequence, which should be avoided as value-mapping will have precedence in case its length matches with *x* & *y*.  Please use the *color* keyword-argument or provide a 2-D array with a single row if you intend to specify the same RGB or RGBA value for all points.\n",
      "*c* argument looks like a single numeric RGB or RGBA sequence, which should be avoided as value-mapping will have precedence in case its length matches with *x* & *y*.  Please use the *color* keyword-argument or provide a 2-D array with a single row if you intend to specify the same RGB or RGBA value for all points.\n",
      "*c* argument looks like a single numeric RGB or RGBA sequence, which should be avoided as value-mapping will have precedence in case its length matches with *x* & *y*.  Please use the *color* keyword-argument or provide a 2-D array with a single row if you intend to specify the same RGB or RGBA value for all points.\n",
      "*c* argument looks like a single numeric RGB or RGBA sequence, which should be avoided as value-mapping will have precedence in case its length matches with *x* & *y*.  Please use the *color* keyword-argument or provide a 2-D array with a single row if you intend to specify the same RGB or RGBA value for all points.\n",
      "*c* argument looks like a single numeric RGB or RGBA sequence, which should be avoided as value-mapping will have precedence in case its length matches with *x* & *y*.  Please use the *color* keyword-argument or provide a 2-D array with a single row if you intend to specify the same RGB or RGBA value for all points.\n",
      "*c* argument looks like a single numeric RGB or RGBA sequence, which should be avoided as value-mapping will have precedence in case its length matches with *x* & *y*.  Please use the *color* keyword-argument or provide a 2-D array with a single row if you intend to specify the same RGB or RGBA value for all points.\n",
      "*c* argument looks like a single numeric RGB or RGBA sequence, which should be avoided as value-mapping will have precedence in case its length matches with *x* & *y*.  Please use the *color* keyword-argument or provide a 2-D array with a single row if you intend to specify the same RGB or RGBA value for all points.\n",
      "*c* argument looks like a single numeric RGB or RGBA sequence, which should be avoided as value-mapping will have precedence in case its length matches with *x* & *y*.  Please use the *color* keyword-argument or provide a 2-D array with a single row if you intend to specify the same RGB or RGBA value for all points.\n",
      "*c* argument looks like a single numeric RGB or RGBA sequence, which should be avoided as value-mapping will have precedence in case its length matches with *x* & *y*.  Please use the *color* keyword-argument or provide a 2-D array with a single row if you intend to specify the same RGB or RGBA value for all points.\n",
      "*c* argument looks like a single numeric RGB or RGBA sequence, which should be avoided as value-mapping will have precedence in case its length matches with *x* & *y*.  Please use the *color* keyword-argument or provide a 2-D array with a single row if you intend to specify the same RGB or RGBA value for all points.\n",
      "*c* argument looks like a single numeric RGB or RGBA sequence, which should be avoided as value-mapping will have precedence in case its length matches with *x* & *y*.  Please use the *color* keyword-argument or provide a 2-D array with a single row if you intend to specify the same RGB or RGBA value for all points.\n",
      "*c* argument looks like a single numeric RGB or RGBA sequence, which should be avoided as value-mapping will have precedence in case its length matches with *x* & *y*.  Please use the *color* keyword-argument or provide a 2-D array with a single row if you intend to specify the same RGB or RGBA value for all points.\n",
      "*c* argument looks like a single numeric RGB or RGBA sequence, which should be avoided as value-mapping will have precedence in case its length matches with *x* & *y*.  Please use the *color* keyword-argument or provide a 2-D array with a single row if you intend to specify the same RGB or RGBA value for all points.\n",
      "*c* argument looks like a single numeric RGB or RGBA sequence, which should be avoided as value-mapping will have precedence in case its length matches with *x* & *y*.  Please use the *color* keyword-argument or provide a 2-D array with a single row if you intend to specify the same RGB or RGBA value for all points.\n",
      "*c* argument looks like a single numeric RGB or RGBA sequence, which should be avoided as value-mapping will have precedence in case its length matches with *x* & *y*.  Please use the *color* keyword-argument or provide a 2-D array with a single row if you intend to specify the same RGB or RGBA value for all points.\n",
      "*c* argument looks like a single numeric RGB or RGBA sequence, which should be avoided as value-mapping will have precedence in case its length matches with *x* & *y*.  Please use the *color* keyword-argument or provide a 2-D array with a single row if you intend to specify the same RGB or RGBA value for all points.\n",
      "*c* argument looks like a single numeric RGB or RGBA sequence, which should be avoided as value-mapping will have precedence in case its length matches with *x* & *y*.  Please use the *color* keyword-argument or provide a 2-D array with a single row if you intend to specify the same RGB or RGBA value for all points.\n",
      "*c* argument looks like a single numeric RGB or RGBA sequence, which should be avoided as value-mapping will have precedence in case its length matches with *x* & *y*.  Please use the *color* keyword-argument or provide a 2-D array with a single row if you intend to specify the same RGB or RGBA value for all points.\n",
      "*c* argument looks like a single numeric RGB or RGBA sequence, which should be avoided as value-mapping will have precedence in case its length matches with *x* & *y*.  Please use the *color* keyword-argument or provide a 2-D array with a single row if you intend to specify the same RGB or RGBA value for all points.\n",
      "*c* argument looks like a single numeric RGB or RGBA sequence, which should be avoided as value-mapping will have precedence in case its length matches with *x* & *y*.  Please use the *color* keyword-argument or provide a 2-D array with a single row if you intend to specify the same RGB or RGBA value for all points.\n",
      "*c* argument looks like a single numeric RGB or RGBA sequence, which should be avoided as value-mapping will have precedence in case its length matches with *x* & *y*.  Please use the *color* keyword-argument or provide a 2-D array with a single row if you intend to specify the same RGB or RGBA value for all points.\n",
      "*c* argument looks like a single numeric RGB or RGBA sequence, which should be avoided as value-mapping will have precedence in case its length matches with *x* & *y*.  Please use the *color* keyword-argument or provide a 2-D array with a single row if you intend to specify the same RGB or RGBA value for all points.\n",
      "*c* argument looks like a single numeric RGB or RGBA sequence, which should be avoided as value-mapping will have precedence in case its length matches with *x* & *y*.  Please use the *color* keyword-argument or provide a 2-D array with a single row if you intend to specify the same RGB or RGBA value for all points.\n",
      "*c* argument looks like a single numeric RGB or RGBA sequence, which should be avoided as value-mapping will have precedence in case its length matches with *x* & *y*.  Please use the *color* keyword-argument or provide a 2-D array with a single row if you intend to specify the same RGB or RGBA value for all points.\n",
      "*c* argument looks like a single numeric RGB or RGBA sequence, which should be avoided as value-mapping will have precedence in case its length matches with *x* & *y*.  Please use the *color* keyword-argument or provide a 2-D array with a single row if you intend to specify the same RGB or RGBA value for all points.\n",
      "*c* argument looks like a single numeric RGB or RGBA sequence, which should be avoided as value-mapping will have precedence in case its length matches with *x* & *y*.  Please use the *color* keyword-argument or provide a 2-D array with a single row if you intend to specify the same RGB or RGBA value for all points.\n",
      "*c* argument looks like a single numeric RGB or RGBA sequence, which should be avoided as value-mapping will have precedence in case its length matches with *x* & *y*.  Please use the *color* keyword-argument or provide a 2-D array with a single row if you intend to specify the same RGB or RGBA value for all points.\n",
      "*c* argument looks like a single numeric RGB or RGBA sequence, which should be avoided as value-mapping will have precedence in case its length matches with *x* & *y*.  Please use the *color* keyword-argument or provide a 2-D array with a single row if you intend to specify the same RGB or RGBA value for all points.\n",
      "*c* argument looks like a single numeric RGB or RGBA sequence, which should be avoided as value-mapping will have precedence in case its length matches with *x* & *y*.  Please use the *color* keyword-argument or provide a 2-D array with a single row if you intend to specify the same RGB or RGBA value for all points.\n",
      "*c* argument looks like a single numeric RGB or RGBA sequence, which should be avoided as value-mapping will have precedence in case its length matches with *x* & *y*.  Please use the *color* keyword-argument or provide a 2-D array with a single row if you intend to specify the same RGB or RGBA value for all points.\n",
      "*c* argument looks like a single numeric RGB or RGBA sequence, which should be avoided as value-mapping will have precedence in case its length matches with *x* & *y*.  Please use the *color* keyword-argument or provide a 2-D array with a single row if you intend to specify the same RGB or RGBA value for all points.\n",
      "*c* argument looks like a single numeric RGB or RGBA sequence, which should be avoided as value-mapping will have precedence in case its length matches with *x* & *y*.  Please use the *color* keyword-argument or provide a 2-D array with a single row if you intend to specify the same RGB or RGBA value for all points.\n",
      "*c* argument looks like a single numeric RGB or RGBA sequence, which should be avoided as value-mapping will have precedence in case its length matches with *x* & *y*.  Please use the *color* keyword-argument or provide a 2-D array with a single row if you intend to specify the same RGB or RGBA value for all points.\n",
      "*c* argument looks like a single numeric RGB or RGBA sequence, which should be avoided as value-mapping will have precedence in case its length matches with *x* & *y*.  Please use the *color* keyword-argument or provide a 2-D array with a single row if you intend to specify the same RGB or RGBA value for all points.\n",
      "*c* argument looks like a single numeric RGB or RGBA sequence, which should be avoided as value-mapping will have precedence in case its length matches with *x* & *y*.  Please use the *color* keyword-argument or provide a 2-D array with a single row if you intend to specify the same RGB or RGBA value for all points.\n",
      "*c* argument looks like a single numeric RGB or RGBA sequence, which should be avoided as value-mapping will have precedence in case its length matches with *x* & *y*.  Please use the *color* keyword-argument or provide a 2-D array with a single row if you intend to specify the same RGB or RGBA value for all points.\n",
      "*c* argument looks like a single numeric RGB or RGBA sequence, which should be avoided as value-mapping will have precedence in case its length matches with *x* & *y*.  Please use the *color* keyword-argument or provide a 2-D array with a single row if you intend to specify the same RGB or RGBA value for all points.\n",
      "*c* argument looks like a single numeric RGB or RGBA sequence, which should be avoided as value-mapping will have precedence in case its length matches with *x* & *y*.  Please use the *color* keyword-argument or provide a 2-D array with a single row if you intend to specify the same RGB or RGBA value for all points.\n",
      "*c* argument looks like a single numeric RGB or RGBA sequence, which should be avoided as value-mapping will have precedence in case its length matches with *x* & *y*.  Please use the *color* keyword-argument or provide a 2-D array with a single row if you intend to specify the same RGB or RGBA value for all points.\n",
      "*c* argument looks like a single numeric RGB or RGBA sequence, which should be avoided as value-mapping will have precedence in case its length matches with *x* & *y*.  Please use the *color* keyword-argument or provide a 2-D array with a single row if you intend to specify the same RGB or RGBA value for all points.\n",
      "*c* argument looks like a single numeric RGB or RGBA sequence, which should be avoided as value-mapping will have precedence in case its length matches with *x* & *y*.  Please use the *color* keyword-argument or provide a 2-D array with a single row if you intend to specify the same RGB or RGBA value for all points.\n",
      "*c* argument looks like a single numeric RGB or RGBA sequence, which should be avoided as value-mapping will have precedence in case its length matches with *x* & *y*.  Please use the *color* keyword-argument or provide a 2-D array with a single row if you intend to specify the same RGB or RGBA value for all points.\n",
      "*c* argument looks like a single numeric RGB or RGBA sequence, which should be avoided as value-mapping will have precedence in case its length matches with *x* & *y*.  Please use the *color* keyword-argument or provide a 2-D array with a single row if you intend to specify the same RGB or RGBA value for all points.\n",
      "*c* argument looks like a single numeric RGB or RGBA sequence, which should be avoided as value-mapping will have precedence in case its length matches with *x* & *y*.  Please use the *color* keyword-argument or provide a 2-D array with a single row if you intend to specify the same RGB or RGBA value for all points.\n",
      "*c* argument looks like a single numeric RGB or RGBA sequence, which should be avoided as value-mapping will have precedence in case its length matches with *x* & *y*.  Please use the *color* keyword-argument or provide a 2-D array with a single row if you intend to specify the same RGB or RGBA value for all points.\n",
      "*c* argument looks like a single numeric RGB or RGBA sequence, which should be avoided as value-mapping will have precedence in case its length matches with *x* & *y*.  Please use the *color* keyword-argument or provide a 2-D array with a single row if you intend to specify the same RGB or RGBA value for all points.\n",
      "*c* argument looks like a single numeric RGB or RGBA sequence, which should be avoided as value-mapping will have precedence in case its length matches with *x* & *y*.  Please use the *color* keyword-argument or provide a 2-D array with a single row if you intend to specify the same RGB or RGBA value for all points.\n",
      "*c* argument looks like a single numeric RGB or RGBA sequence, which should be avoided as value-mapping will have precedence in case its length matches with *x* & *y*.  Please use the *color* keyword-argument or provide a 2-D array with a single row if you intend to specify the same RGB or RGBA value for all points.\n",
      "*c* argument looks like a single numeric RGB or RGBA sequence, which should be avoided as value-mapping will have precedence in case its length matches with *x* & *y*.  Please use the *color* keyword-argument or provide a 2-D array with a single row if you intend to specify the same RGB or RGBA value for all points.\n",
      "*c* argument looks like a single numeric RGB or RGBA sequence, which should be avoided as value-mapping will have precedence in case its length matches with *x* & *y*.  Please use the *color* keyword-argument or provide a 2-D array with a single row if you intend to specify the same RGB or RGBA value for all points.\n",
      "*c* argument looks like a single numeric RGB or RGBA sequence, which should be avoided as value-mapping will have precedence in case its length matches with *x* & *y*.  Please use the *color* keyword-argument or provide a 2-D array with a single row if you intend to specify the same RGB or RGBA value for all points.\n",
      "*c* argument looks like a single numeric RGB or RGBA sequence, which should be avoided as value-mapping will have precedence in case its length matches with *x* & *y*.  Please use the *color* keyword-argument or provide a 2-D array with a single row if you intend to specify the same RGB or RGBA value for all points.\n",
      "*c* argument looks like a single numeric RGB or RGBA sequence, which should be avoided as value-mapping will have precedence in case its length matches with *x* & *y*.  Please use the *color* keyword-argument or provide a 2-D array with a single row if you intend to specify the same RGB or RGBA value for all points.\n",
      "*c* argument looks like a single numeric RGB or RGBA sequence, which should be avoided as value-mapping will have precedence in case its length matches with *x* & *y*.  Please use the *color* keyword-argument or provide a 2-D array with a single row if you intend to specify the same RGB or RGBA value for all points.\n",
      "*c* argument looks like a single numeric RGB or RGBA sequence, which should be avoided as value-mapping will have precedence in case its length matches with *x* & *y*.  Please use the *color* keyword-argument or provide a 2-D array with a single row if you intend to specify the same RGB or RGBA value for all points.\n",
      "*c* argument looks like a single numeric RGB or RGBA sequence, which should be avoided as value-mapping will have precedence in case its length matches with *x* & *y*.  Please use the *color* keyword-argument or provide a 2-D array with a single row if you intend to specify the same RGB or RGBA value for all points.\n",
      "*c* argument looks like a single numeric RGB or RGBA sequence, which should be avoided as value-mapping will have precedence in case its length matches with *x* & *y*.  Please use the *color* keyword-argument or provide a 2-D array with a single row if you intend to specify the same RGB or RGBA value for all points.\n",
      "*c* argument looks like a single numeric RGB or RGBA sequence, which should be avoided as value-mapping will have precedence in case its length matches with *x* & *y*.  Please use the *color* keyword-argument or provide a 2-D array with a single row if you intend to specify the same RGB or RGBA value for all points.\n",
      "*c* argument looks like a single numeric RGB or RGBA sequence, which should be avoided as value-mapping will have precedence in case its length matches with *x* & *y*.  Please use the *color* keyword-argument or provide a 2-D array with a single row if you intend to specify the same RGB or RGBA value for all points.\n",
      "*c* argument looks like a single numeric RGB or RGBA sequence, which should be avoided as value-mapping will have precedence in case its length matches with *x* & *y*.  Please use the *color* keyword-argument or provide a 2-D array with a single row if you intend to specify the same RGB or RGBA value for all points.\n"
     ]
    },
    {
     "data": {
      "image/png": "[encoded data removed]",
      "text/plain": [
       "<Figure size 432x288 with 1 Axes>"
      ]
     },
     "metadata": {
      "needs_background": "light"
     },
     "output_type": "display_data"
    }
   ],
   "source": [
    "from sklearn.manifold import TSNE\n",
    "import datetime\n",
    "start = datetime.datetime.now()\n",
    "\n",
    "SEED=4321\n",
    "with open('u_i_vec2.json', 'r') as rf:\n",
    "    data = json.load(rf)\n",
    "    \n",
    "tsne = TSNE(random_state=SEED,perplexity=30)\n",
    "tsne.fit_transform(list(data.values()))\n",
    "tsne_emb = pd.DataFrame(tsne.embedding_)\n",
    "data = pd.DataFrame(tsne_emb, index=tsne_emb.index)\n",
    "data = pd.merge(tsne_emb, labels, right_index=True, left_index=True)\n",
    "\n",
    "norm = plt.Normalize(1, max(labels))\n",
    "colors = ['b', 'r', 'g', 'cyan']\n",
    "plt.scatter(data[data.label == l].iloc[:, 0], data[data.label == l].iloc[:, 1])\n",
    "plt.show()\n",
    "for l in set(labels):\n",
    "    plt.scatter(data[data.label == l].iloc[:, 0], data[data.label == l].iloc[:, 1], c=plt.cm.RdYlGn(norm(l)))\n",
    "    #plt.scatter(data[data.label == l].iloc[:, 0], data[data.label == l].iloc[:, 1], c=colors[l%len(colors)])\n",
    "plt.title('item_vector')\n",
    "plt.savefig('u_i_vec2.png',dpi=400,bbox_inches='tight')\n",
    "plt.show()"
   ]
  },
  {
   "cell_type": "code",
   "execution_count": 318,
   "metadata": {},
   "outputs": [
    {
     "name": "stdout",
     "output_type": "stream",
     "text": [
      "              0          1\n",
      "0    -22.311054  16.581659\n",
      "1    -22.378469  16.665117\n",
      "2    -22.050034  15.765316\n",
      "3    -21.360521  15.235837\n",
      "4    -21.419687  16.979202\n",
      "...         ...        ...\n",
      "1856 -13.595950  10.347103\n",
      "1857 -14.458181  11.338656\n",
      "1858 -13.594408  10.359414\n",
      "1859 -13.445131  10.091555\n",
      "1860 -12.759029  11.777369\n",
      "\n",
      "[1861 rows x 2 columns]\n",
      "Time passed: 0:00:33.705056\n"
     ]
    },
    {
     "data": {
      "image/png": "[encoded data removed]",
      "text/plain": [
       "<Figure size 432x288 with 1 Axes>"
      ]
     },
     "metadata": {
      "needs_background": "light"
     },
     "output_type": "display_data"
    }
   ],
   "source": [
    "from sklearn.manifold import TSNE\n",
    "import datetime\n",
    "start = datetime.datetime.now()\n",
    "\n",
    "SEED=4321\n",
    "with open('u_i_vec2.json', 'r') as rf:\n",
    "    data = json.load(rf)\n",
    "\n",
    "tsne = TSNE(random_state=SEED,perplexity=50)\n",
    "tsne.fit_transform(list(data.values()))\n",
    "tsne_emb = pd.DataFrame(tsne.embedding_)\n",
    "#print(list(data.values()))\n",
    "print(tsne_emb)\n",
    "fig, ax = plt.subplots()\n",
    "plt.scatter(tsne_emb.iloc[:, 0], tsne_emb.iloc[:, 1])\n",
    "#map_size = {-1: 50, 1: 100}\n",
    "#size = list(map(lambda x: map_size[x]))\n",
    "#map_color = {-1: 'r', 1: 'g'}\n",
    "#color = list(map(lambda x: map_color[x]))\n",
    "#plt.scatter(tsne_emb.iloc[:, 0], tsne_emb.iloc[:, 1],s=size, c=color, marker='o')\n",
    "plt.title('item2Vctor TSNE')\n",
    "plt.savefig('i2v3_70.png',dpi=400,bbox_inches='tight')\n",
    "print(\"Time passed: \" + str(datetime.datetime.now()-start))\n",
    "plt.show()"
   ]
  },
  {
   "cell_type": "code",
   "execution_count": 210,
   "metadata": {},
   "outputs": [
    {
     "name": "stdout",
     "output_type": "stream",
     "text": [
      "[('B004N1PHR8', 0.9998778104782104)]\n"
     ]
    },
    {
     "name": "stderr",
     "output_type": "stream",
     "text": [
      "<ipython-input-210-3707daba7acd>:4: DeprecationWarning: Call to deprecated `most_similar` (Method will be removed in 4.0.0, use self.wv.most_similar() instead).\n",
      "  most_similar_words = model.most_similar( [ model_word_vector ], [], topn)\n"
     ]
    }
   ],
   "source": [
    "average=np.mean(vectors,axis=0)\n",
    "model_word_vector = np.array( average, dtype='f')\n",
    "topn = 1;\n",
    "most_similar_words = model.most_similar( [ model_word_vector ], [], topn)\n",
    "print(most_similar_words)"
   ]
  },
  {
   "cell_type": "code",
   "execution_count": 205,
   "metadata": {},
   "outputs": [
    {
     "name": "stdout",
     "output_type": "stream",
     "text": [
      "78656\n"
     ]
    }
   ],
   "source": [
    "words = model.wv.vocab\n",
    "vocab=list()\n",
    "for word in words:\n",
    "    vocab.append(word)\n",
    "print(len(vocab))"
   ]
  },
  {
   "cell_type": "code",
   "execution_count": 131,
   "metadata": {},
   "outputs": [
    {
     "name": "stderr",
     "output_type": "stream",
     "text": [
      "<ipython-input-131-9bf1df65281f>:1: DeprecationWarning: Call to deprecated `most_similar` (Method will be removed in 4.0.0, use self.wv.most_similar() instead).\n",
      "  model.most_similar('B0000571L9')\n"
     ]
    },
    {
     "data": {
      "text/plain": [
       "[('B00110MH72', 0.999814510345459),\n",
       " ('B000057GN4', 0.9997575283050537),\n",
       " ('B000X7EQ64', 0.9997566938400269),\n",
       " ('B00006ZY5G', 0.9997544288635254),\n",
       " ('B0014OAKE2', 0.9997532367706299),\n",
       " ('B0000082Z5', 0.9996815323829651),\n",
       " ('B001DLUFBY', 0.9996392726898193),\n",
       " ('B001JBOZ8C', 0.9996380805969238),\n",
       " ('B000050X70', 0.9995995163917542),\n",
       " ('B00006AWLU', 0.9995852112770081)]"
      ]
     },
     "execution_count": 131,
     "metadata": {},
     "output_type": "execute_result"
    }
   ],
   "source": [
    "model.most_similar('B0000571L9')"
   ]
  },
  {
   "cell_type": "raw",
   "metadata": {},
   "source": [
    "model.wv.similarity('B0000571L9','B004RG29OI')"
   ]
  },
  {
   "cell_type": "code",
   "execution_count": 188,
   "metadata": {},
   "outputs": [],
   "source": [
    "df = pd.read_csv('train.csv')\n",
    "df_train=pd.DataFrame(df)\n",
    "itemsPerUser = df_train.groupby(['reviewerID'])['asin'].unique()\n",
    "usersPerItem = df_train.groupby(['asin'])['reviewerID'].unique()"
   ]
  },
  {
   "cell_type": "code",
   "execution_count": 155,
   "metadata": {},
   "outputs": [
    {
     "data": {
      "text/plain": [
       "array(['B00A7ZXBE0', 'B002M9HYWO', 'B00137YZ6Y', 'B00PGO7LLQ',\n",
       "       'B00PGO7O7C', 'B017JGRPEG', 'B0170K9XVY', 'B001HE0K4E',\n",
       "       'B01F49DZEO', 'B013D1FONK', 'B000TDUTVS', 'B000V6309Q',\n",
       "       'B00DAKW8R0', 'B00136LEN2', 'B001CJO0UO'], dtype=object)"
      ]
     },
     "execution_count": 155,
     "metadata": {},
     "output_type": "execute_result"
    }
   ],
   "source": [
    "itemsPerUser['A20W95ZB4ZP5N']"
   ]
  },
  {
   "cell_type": "code",
   "execution_count": 209,
   "metadata": {},
   "outputs": [
    {
     "name": "stdout",
     "output_type": "stream",
     "text": [
      "[0.6933753, 0.95699537, 0.98586166, 0.9891305, 0.90032375, 0.8153026, 0.8593405, 0.9766029, 0.7187065, 0.98269606, 0.7721154, 0.8988353, 0.9817128, 0.8882172, 0.747551]\n"
     ]
    }
   ],
   "source": [
    "item='B001BHWEAA'\n",
    "sim_df=0\n",
    "sim_a=list()\n",
    "for i in itemsPerUser['A20W95ZB4ZP5N']:\n",
    "    try:\n",
    "        sim=model.wv.similarity(item,i)\n",
    "        sim_a.append(sim)\n",
    "    except:\n",
    "        for j in most_similar_words:\n",
    "            sim=model.wv.similarity(item,j)\n",
    "            if sim>sim_df:sim_df=sim\n",
    "        sim_a.append(sim_df)\n",
    "print(sim_a)"
   ]
  },
  {
   "cell_type": "code",
   "execution_count": 373,
   "metadata": {},
   "outputs": [
    {
     "data": {
      "text/plain": [
       "(173, 'B00CZF8B68')"
      ]
     },
     "execution_count": 373,
     "metadata": {},
     "output_type": "execute_result"
    }
   ],
   "source": [
    "mostPopular[0]"
   ]
  },
  {
   "cell_type": "code",
   "execution_count": 388,
   "metadata": {},
   "outputs": [],
   "source": [
    "popular=defaultdict(int)\n",
    "for ic, i in mostPopular:\n",
    "    popular[i]=(ic/173)\n",
    "popu = [(popular[x], x) for x in popular]"
   ]
  },
  {
   "cell_type": "code",
   "execution_count": 387,
   "metadata": {},
   "outputs": [
    {
     "data": {
      "text/plain": [
       "1.0"
      ]
     },
     "execution_count": 387,
     "metadata": {},
     "output_type": "execute_result"
    }
   ],
   "source": [
    "pop[0]"
   ]
  },
  {
   "cell_type": "code",
   "execution_count": 424,
   "metadata": {},
   "outputs": [],
   "source": [
    "import datetime\n",
    "start = datetime.datetime.now()\n",
    "count=0\n",
    "acc=0\n",
    "X_valid=list()\n",
    "y_valid=list()\n",
    "log4=list()\n",
    "average=np.mean(vectors,axis=0)\n",
    "for l in open('validation.txt'):\n",
    "    if l.startswith(\"reviewerID\"):continue\n",
    "    user,item,labels = l.strip().split(',')\n",
    "    y_valid.append(eval(labels))\n",
    "    u_g=user+ '-' +item\n",
    "    X_valid.append(u_g)\n",
    "    i1=itemsPerUser[user]\n",
    "    itemvec=list()\n",
    "    for i in i1:\n",
    "        if i == item: continue\n",
    "        try: \n",
    "            a=model.wv[i]\n",
    "        except:\n",
    "            continue\n",
    "        itemvec.append(a)\n",
    "    ave_u=np.mean(itemvec,axis=0)\n",
    "    try:\n",
    "        v_i=model.wv[item]\n",
    "    except:\n",
    "        v_i=average\n",
    "    t=list()\n",
    "    for j in range(128):\n",
    "        t.append((ave_u[j])*(v_i[j]))\n",
    "    log4.append(t)"
   ]
  },
  {
   "cell_type": "code",
   "execution_count": 57,
   "metadata": {},
   "outputs": [
    {
     "data": {
      "text/plain": [
       "array([ 0.7106348 , -0.12102143,  0.2691203 , -0.00738406,  0.44835487,\n",
       "       -0.22573155,  0.1939816 ,  0.27583912,  0.2645499 ,  0.13793977,\n",
       "        0.2170539 ,  0.12642863,  0.5422195 ,  0.00755428, -0.34260336,\n",
       "        0.3365299 , -0.22954515, -0.21446395,  0.20327424, -0.14073959,\n",
       "       -0.25179642, -0.31014276,  0.304879  , -0.1713297 ,  0.11389879,\n",
       "        0.08917502,  0.17166092, -0.15822221, -0.41278887, -0.17568476,\n",
       "        0.4372309 , -0.25046068, -0.45742184,  0.12654759, -0.40733477,\n",
       "        0.11407173,  0.56558514,  0.04810303, -0.02474195,  0.19665383,\n",
       "       -0.03269894, -0.3806963 , -0.01779208, -0.78719324,  0.00442194,\n",
       "       -0.28036034,  0.42827708,  0.33076665,  0.40050998, -0.65524477,\n",
       "        0.11828678,  0.0663376 ,  0.45445892, -0.27290204,  0.5206784 ,\n",
       "       -0.1468348 ,  0.12619413, -0.0402521 , -0.30691376, -0.2323477 ,\n",
       "       -0.04268986, -0.33931565,  0.22618012,  0.07982506], dtype=float32)"
      ]
     },
     "execution_count": 57,
     "metadata": {},
     "output_type": "execute_result"
    }
   ],
   "source": [
    "np.mean(vectors,axis=0)"
   ]
  },
  {
   "cell_type": "code",
   "execution_count": 425,
   "metadata": {},
   "outputs": [
    {
     "data": {
      "text/plain": [
       "LogisticRegression(C=1, class_weight='balanced')"
      ]
     },
     "execution_count": 425,
     "metadata": {},
     "output_type": "execute_result"
    }
   ],
   "source": [
    "mod7= linear_model.LogisticRegression(C=1, class_weight='balanced')\n",
    "mod7.fit(log4, y_valid)"
   ]
  },
  {
   "cell_type": "code",
   "execution_count": 426,
   "metadata": {},
   "outputs": [],
   "source": [
    "count=0\n",
    "acc=0\n",
    "X_test=list() #modify size=64， iter 100\n",
    "y_test=list()\n",
    "feature4=list()\n",
    "average=np.mean(vectors,axis=0)\n",
    "for l in open('test.txt'):\n",
    "    if l.startswith(\"reviewerID\"):continue\n",
    "    user,item,labels = l.strip().split(',')\n",
    "    y_test.append(eval(labels))\n",
    "    u_g=user+ '-' +item\n",
    "    X_test.append(u_g)\n",
    "    i1=itemsPerUser[user]\n",
    "    itemvec=list()\n",
    "    for i in i1:\n",
    "        if i == item: continue\n",
    "        try: \n",
    "            a=model.wv[i]\n",
    "        except:\n",
    "            continue\n",
    "        itemvec.append(a)\n",
    "    ave_u=np.mean(itemvec,axis=0)\n",
    "    try:\n",
    "        v_i=model.wv[item]\n",
    "    except:\n",
    "        v_i=average\n",
    "    t=list()\n",
    "    for j in range(128):\n",
    "        t.append((ave_u[j])*(v_i[j]))\n",
    "    feature4.append(t)"
   ]
  },
  {
   "cell_type": "code",
   "execution_count": 427,
   "metadata": {},
   "outputs": [
    {
     "data": {
      "text/plain": [
       "0.6635801639564575"
      ]
     },
     "execution_count": 427,
     "metadata": {},
     "output_type": "execute_result"
    }
   ],
   "source": [
    "#modify size=128， iter 50\n",
    "pred4 = mod7.predict(feature4)\n",
    "sum(pred4 == y_test) / len(y_test)"
   ]
  },
  {
   "cell_type": "code",
   "execution_count": 416,
   "metadata": {},
   "outputs": [
    {
     "data": {
      "text/plain": [
       "0.6549388523047978"
      ]
     },
     "execution_count": 416,
     "metadata": {},
     "output_type": "execute_result"
    }
   ],
   "source": [
    "pred4 = mod7.predict(feature4)\n",
    "sum(pred4 == y_test) / len(y_test)  #modify size=64， iter 100"
   ]
  },
  {
   "cell_type": "code",
   "execution_count": 406,
   "metadata": {},
   "outputs": [],
   "source": [
    "import datetime\n",
    "start = datetime.datetime.now()\n",
    "count=0\n",
    "acc=0\n",
    "X_valid=list()\n",
    "y_valid=list()\n",
    "log3=list()\n",
    "average=np.mean(vectors,axis=0)\n",
    "for l in open('validation.txt'):\n",
    "    if l.startswith(\"reviewerID\"):continue\n",
    "    user,item,labels = l.strip().split(',')\n",
    "    y_valid.append(eval(labels))\n",
    "    u_g=user+ '-' +item\n",
    "    X_valid.append(u_g)\n",
    "    i1=itemsPerUser[user]\n",
    "    itemvec=list()\n",
    "    for i in i1:\n",
    "        if i == item: continue\n",
    "        try: \n",
    "            a=model.wv[i]\n",
    "        except:\n",
    "            continue\n",
    "        itemvec.append(a)\n",
    "    ave_u=np.mean(itemvec,axis=0)\n",
    "    try:\n",
    "        v_i=model.wv[item]\n",
    "    except:\n",
    "        v_i=average\n",
    "    t=list()\n",
    "    for j in range(64):\n",
    "        t.append((ave_u[j])*(v_i[j]))\n",
    "    log3.append(t)"
   ]
  },
  {
   "cell_type": "code",
   "execution_count": 407,
   "metadata": {},
   "outputs": [
    {
     "data": {
      "text/plain": [
       "LogisticRegression(C=1, class_weight='balanced')"
      ]
     },
     "execution_count": 407,
     "metadata": {},
     "output_type": "execute_result"
    }
   ],
   "source": [
    "mod6= linear_model.LogisticRegression(C=1, class_weight='balanced')\n",
    "mod6.fit(log3, y_valid)"
   ]
  },
  {
   "cell_type": "code",
   "execution_count": 409,
   "metadata": {},
   "outputs": [],
   "source": [
    "count=0\n",
    "acc=0\n",
    "X_test=list()\n",
    "y_test=list()\n",
    "feature3=list()\n",
    "average=np.mean(vectors,axis=0)\n",
    "for l in open('test.txt'):\n",
    "    if l.startswith(\"reviewerID\"):continue\n",
    "    user,item,labels = l.strip().split(',')\n",
    "    y_test.append(eval(labels))\n",
    "    u_g=user+ '-' +item\n",
    "    X_test.append(u_g)\n",
    "    i1=itemsPerUser[user]\n",
    "    itemvec=list()\n",
    "    for i in i1:\n",
    "        if i == item: continue\n",
    "        try: \n",
    "            a=model.wv[i]      #modify size=64， iter 50\n",
    "        except:\n",
    "            continue\n",
    "        itemvec.append(a)\n",
    "    ave_u=np.mean(itemvec,axis=0)\n",
    "    try:\n",
    "        v_i=model.wv[item]\n",
    "    except:\n",
    "        v_i=average\n",
    "    t=list()\n",
    "    for j in range(64):\n",
    "        t.append((ave_u[j])*(v_i[j]))\n",
    "    feature3.append(t)"
   ]
  },
  {
   "cell_type": "code",
   "execution_count": 410,
   "metadata": {},
   "outputs": [
    {
     "data": {
      "text/plain": [
       "0.663150114231958"
      ]
     },
     "execution_count": 410,
     "metadata": {},
     "output_type": "execute_result"
    }
   ],
   "source": [
    "pred3 = mod6.predict(feature3)\n",
    "sum(pred3 == y_test) / len(y_test)"
   ]
  },
  {
   "cell_type": "code",
   "execution_count": 399,
   "metadata": {},
   "outputs": [],
   "source": [
    "import datetime\n",
    "start = datetime.datetime.now()\n",
    "count=0\n",
    "acc=0\n",
    "X_valid=list()\n",
    "y_valid=list()\n",
    "log2=list()\n",
    "average=np.mean(vectors,axis=0)\n",
    "for l in open('validation.txt'):\n",
    "    if l.startswith(\"reviewerID\"):continue\n",
    "    user,item,labels = l.strip().split(',')\n",
    "    y_valid.append(eval(labels))\n",
    "    u_g=user+ '-' +item\n",
    "    X_valid.append(u_g)\n",
    "    i1=itemsPerUser[user]\n",
    "    itemvec=list()\n",
    "    for i in i1:\n",
    "        if i == item: continue\n",
    "        try: \n",
    "            a=model.wv[i]\n",
    "        except:\n",
    "            continue\n",
    "        itemvec.append(a)\n",
    "    ave_u=np.mean(itemvec,axis=0)\n",
    "    try:\n",
    "        v_i=model.wv[item]\n",
    "    except:\n",
    "        v_i=average\n",
    "    t=list()\n",
    "    for j in range(200):\n",
    "        t.append((ave_u[j])*(v_i[j]))\n",
    "    log2.append(t)"
   ]
  },
  {
   "cell_type": "code",
   "execution_count": 400,
   "metadata": {},
   "outputs": [
    {
     "data": {
      "text/plain": [
       "LogisticRegression(C=1, class_weight='balanced')"
      ]
     },
     "execution_count": 400,
     "metadata": {},
     "output_type": "execute_result"
    }
   ],
   "source": [
    "mod5= linear_model.LogisticRegression(C=1, class_weight='balanced')\n",
    "mod5.fit(log2, y_valid)"
   ]
  },
  {
   "cell_type": "code",
   "execution_count": 401,
   "metadata": {},
   "outputs": [],
   "source": [
    "count=0\n",
    "acc=0\n",
    "X_test=list()\n",
    "y_test=list()\n",
    "feature2=list()\n",
    "average=np.mean(vectors,axis=0)\n",
    "for l in open('test.txt'):\n",
    "    if l.startswith(\"reviewerID\"):continue\n",
    "    user,item,labels = l.strip().split(',')\n",
    "    y_test.append(eval(labels))\n",
    "    u_g=user+ '-' +item\n",
    "    X_test.append(u_g)\n",
    "    i1=itemsPerUser[user]  #modify size=， iter 50\n",
    "    itemvec=list()\n",
    "    for i in i1:\n",
    "        if i == item: continue\n",
    "        try: \n",
    "            a=model.wv[i]\n",
    "        except:\n",
    "            continue\n",
    "        itemvec.append(a)\n",
    "    ave_u=np.mean(itemvec,axis=0)\n",
    "    try:\n",
    "        v_i=model.wv[item]\n",
    "    except:\n",
    "        v_i=average\n",
    "    t=list()\n",
    "    for j in range(200):\n",
    "        t.append((ave_u[j])*(v_i[j]))\n",
    "    feature2.append(t)"
   ]
  },
  {
   "cell_type": "code",
   "execution_count": 402,
   "metadata": {},
   "outputs": [
    {
     "data": {
      "text/plain": [
       "0.6656900954172826"
      ]
     },
     "execution_count": 402,
     "metadata": {},
     "output_type": "execute_result"
    }
   ],
   "source": [
    "pred2 = mod5.predict(feature2)\n",
    "sum(pred2 == y_test) / len(y_test)"
   ]
  },
  {
   "cell_type": "code",
   "execution_count": 353,
   "metadata": {},
   "outputs": [],
   "source": [
    "import datetime\n",
    "start = datetime.datetime.now()\n",
    "count=0\n",
    "acc=0\n",
    "X_valid=list()\n",
    "y_valid=list()\n",
    "log=list()\n",
    "average=np.mean(vectors,axis=0)\n",
    "for l in open('validation.txt'):\n",
    "    if l.startswith(\"reviewerID\"):continue\n",
    "    user,item,labels = l.strip().split(',')\n",
    "    y_valid.append(eval(labels))\n",
    "    u_g=user+ '-' +item\n",
    "    X_valid.append(u_g)\n",
    "    i1=itemsPerUser[user]\n",
    "    itemvec=list()\n",
    "    for i in i1:\n",
    "        if i == item: continue\n",
    "        try: \n",
    "            a=model.wv[i]\n",
    "        except:\n",
    "            continue\n",
    "        itemvec.append(a)\n",
    "    ave_u=np.mean(itemvec,axis=0)\n",
    "    try:\n",
    "        v_i=model.wv[item]\n",
    "    except:\n",
    "        v_i=average\n",
    "    t=list()\n",
    "    for j in range(200):\n",
    "        t.append((ave_u[j])*(v_i[j]))\n",
    "    log.append(t)"
   ]
  },
  {
   "cell_type": "code",
   "execution_count": 380,
   "metadata": {},
   "outputs": [
    {
     "data": {
      "text/plain": [
       "[[1, 2, 3, 3], [4, 5, 6, 3]]"
      ]
     },
     "execution_count": 380,
     "metadata": {},
     "output_type": "execute_result"
    }
   ],
   "source": [
    "a=[[1,2,3],[4,5,6]]\n",
    "b=[2,3]\n",
    "q=list()\n",
    "for i in range(len(log)):\n",
    "    q.append(log[i]+[b[1]])\n",
    "q"
   ]
  },
  {
   "cell_type": "code",
   "execution_count": 366,
   "metadata": {},
   "outputs": [
    {
     "data": {
      "text/plain": [
       "LogisticRegression(C=1, class_weight='balanced')"
      ]
     },
     "execution_count": 366,
     "metadata": {},
     "output_type": "execute_result"
    }
   ],
   "source": [
    "mod4= linear_model.LogisticRegression(C=1, class_weight='balanced')\n",
    "mod4.fit(log, y_valid)"
   ]
  },
  {
   "cell_type": "code",
   "execution_count": 355,
   "metadata": {},
   "outputs": [],
   "source": [
    "count=0\n",
    "acc=0\n",
    "X_test=list()\n",
    "y_test=list()\n",
    "feature=list()\n",
    "average=np.mean(vectors,axis=0)\n",
    "for l in open('test.txt'):\n",
    "    if l.startswith(\"reviewerID\"):continue\n",
    "    user,item,labels = l.strip().split(',')\n",
    "    y_test.append(eval(labels))\n",
    "    u_g=user+ '-' +item\n",
    "    X_test.append(u_g)\n",
    "    i1=itemsPerUser[user]\n",
    "    itemvec=list()\n",
    "    for i in i1:\n",
    "        if i == item: continue\n",
    "        try: \n",
    "            a=model.wv[i]\n",
    "        except:\n",
    "            continue\n",
    "        itemvec.append(a)\n",
    "    ave_u=np.mean(itemvec,axis=0)\n",
    "    try:\n",
    "        v_i=model.wv[item]\n",
    "    except:\n",
    "        v_i=average\n",
    "    t=list()\n",
    "    for j in range(200):\n",
    "        t.append((ave_u[j])*(v_i[j]))\n",
    "    feature.append(t)"
   ]
  },
  {
   "cell_type": "code",
   "execution_count": 367,
   "metadata": {},
   "outputs": [
    {
     "data": {
      "text/plain": [
       "0.3593603010348071"
      ]
     },
     "execution_count": 367,
     "metadata": {},
     "output_type": "execute_result"
    }
   ],
   "source": [
    "pred = mod4.predict(feature)\n",
    "\n",
    "TP_ = np.logical_and(pred, y_test)\n",
    "FP_ = np.logical_and(pred, np.logical_not(y_test))\n",
    "TN_ = np.logical_and(np.logical_not(pred), np.logical_not(y_test))\n",
    "FN_ = np.logical_and(np.logical_not(pred), y_test)\n",
    "TP = sum(TP_)\n",
    "FP = sum(FP_)\n",
    "TN = sum(TN_)\n",
    "FN = sum(FN_)\n",
    "# BER\n",
    "1 - 0.5*(TP / (TP + FN) + TN / (TN + FP))"
   ]
  },
  {
   "cell_type": "code",
   "execution_count": 368,
   "metadata": {},
   "outputs": [
    {
     "data": {
      "text/plain": [
       "0.6406396989651929"
      ]
     },
     "execution_count": 368,
     "metadata": {},
     "output_type": "execute_result"
    }
   ],
   "source": [
    "sum(pred == y_test) / len(y_test)"
   ]
  },
  {
   "cell_type": "code",
   "execution_count": 358,
   "metadata": {},
   "outputs": [
    {
     "data": {
      "text/plain": [
       "[1, 0, 1, 0, 1, 0, 1, 0, 1, 0]"
      ]
     },
     "execution_count": 358,
     "metadata": {},
     "output_type": "execute_result"
    }
   ],
   "source": [
    "y_test[:10]"
   ]
  },
  {
   "cell_type": "code",
   "execution_count": 312,
   "metadata": {},
   "outputs": [
    {
     "data": {
      "text/plain": [
       "[0,\n",
       " 0.97971135,\n",
       " 0.93317324,\n",
       " 0,\n",
       " 0,\n",
       " 0.9685426,\n",
       " 0.98925793,\n",
       " 0.989896,\n",
       " 0.8733214,\n",
       " 0.99685955]"
      ]
     },
     "execution_count": 312,
     "metadata": {},
     "output_type": "execute_result"
    }
   ],
   "source": [
    "simlist[:10]"
   ]
  },
  {
   "cell_type": "code",
   "execution_count": 335,
   "metadata": {},
   "outputs": [],
   "source": [
    "import datetime\n",
    "start = datetime.datetime.now()\n",
    "count=0\n",
    "acc=0\n",
    "X_valid=list()\n",
    "y_valid=list()\n",
    "simlist2=list()\n",
    "for l in open('validation.txt'):\n",
    "    if l.startswith(\"reviewerID\"):continue\n",
    "    user,item,labels = l.strip().split(',')\n",
    "    u_g=user+ '-' +item\n",
    "    X_valid.append(u_g)\n",
    "    y_valid.append(eval(labels))\n",
    "    i1=itemsPerUser[user]\n",
    "    simcou=0\n",
    "    i2=list()\n",
    "    for i in i1:\n",
    "        if i == item: continue\n",
    "        try: \n",
    "            sim=model.wv.similarity(item,i)\n",
    "        except:\n",
    "            sim=0\n",
    "        simcou+=sim\n",
    "    simcou=simcou/len(i1)\n",
    "    simlist2.append(simcou)"
   ]
  },
  {
   "cell_type": "code",
   "execution_count": 336,
   "metadata": {},
   "outputs": [
    {
     "data": {
      "text/plain": [
       "[0.0,\n",
       " 0.959979797110838,\n",
       " 0.6658743760652013,\n",
       " 0.0,\n",
       " 0.0,\n",
       " 0.7196790944962275,\n",
       " 0.9291892356650774,\n",
       " 0.9871587802966436,\n",
       " 0.745631777510351,\n",
       " 0.9666494131088257]"
      ]
     },
     "execution_count": 336,
     "metadata": {},
     "output_type": "execute_result"
    }
   ],
   "source": [
    "simlist2[:10]"
   ]
  },
  {
   "cell_type": "code",
   "execution_count": 326,
   "metadata": {},
   "outputs": [],
   "source": [
    "y=list()\n",
    "for l in open('validation.txt'):\n",
    "    if l.startswith(\"reviewerID\"):continue\n",
    "    user,item,labels = l.strip().split(',')\n",
    "    y_valid=eval(labels)\n",
    "    y.append(y_valid)"
   ]
  },
  {
   "cell_type": "code",
   "execution_count": 331,
   "metadata": {},
   "outputs": [
    {
     "data": {
      "text/plain": [
       "1.0"
      ]
     },
     "execution_count": 331,
     "metadata": {},
     "output_type": "execute_result"
    }
   ],
   "source": [
    "len(y_valid)/len(X_valid)"
   ]
  },
  {
   "cell_type": "code",
   "execution_count": 342,
   "metadata": {},
   "outputs": [
    {
     "name": "stdout",
     "output_type": "stream",
     "text": [
      "0\n",
      "TP  926 TN  34583 0.47720736460153207\n",
      "FP  2622 FN  36279 0.522792635398468 74410\n"
     ]
    }
   ],
   "source": [
    "predictions_df = defaultdict(int)\n",
    "count=0\n",
    "acc=0\n",
    "TP=0\n",
    "TN=0\n",
    "FN=0\n",
    "FP=0\n",
    "for i in range(len(X_valid)):\n",
    "    sim1=simlist2[i]\n",
    "    u_g1=X_valid[i]\n",
    "    y_valid=y[i]\n",
    "    if sim1<0.98:\n",
    "        predictions_df[u_g1]=0\n",
    "    else:\n",
    "        predictions_df[u_g1]=1    \n",
    "    y_pred=predictions_df[u_g1]\n",
    "    if y_valid==y_pred:\n",
    "        acc+=1\n",
    "        if y_valid==1:TP+=1\n",
    "        else:TN+=1\n",
    "    else:\n",
    "        if y_valid==1:FN+=1\n",
    "        else:FP+=1        \n",
    "accuracy=acc/(len(X_valid)-count)\n",
    "print(count)\n",
    "error=(FP+FN)/(TP+TN+FP+FN)\n",
    "print(\"TP \",TP,\"TN \",TN,accuracy)\n",
    "print(\"FP \",FP,\"FN \",FN,error,len(X_valid))"
   ]
  },
  {
   "cell_type": "raw",
   "metadata": {},
   "source": [
    "TP  27001 TN  23757 0.6821394973793845"
   ]
  },
  {
   "cell_type": "code",
   "execution_count": 309,
   "metadata": {},
   "outputs": [
    {
     "data": {
      "image/png": "[encoded data removed]",
      "text/plain": [
       "<Figure size 432x288 with 1 Axes>"
      ]
     },
     "metadata": {
      "needs_background": "light"
     },
     "output_type": "display_data"
    }
   ],
   "source": [
    "threshold_sim=[0.1,0.2,0.3,0.4,0.5,0.6,0.7,0.8,0.85,0.9,0.95,0.98,0.99]\n",
    "acc_sim=[0.5019621,0.50223088,0.502230,0.502311,0.502285,0.502298,0.5032925,0.5062088,0.50888321,0.513197,0.519581,0.520844,0.51554898]\n",
    "plt.plot(threshold_sim, acc_sim)\n",
    "plt.xlabel('threshold')\n",
    "plt.ylabel('Accuracy')\n",
    "plt.title('threshold of item2Vector')\n",
    "plt.savefig('iitem2Vector1.png',dpi=400,bbox_inches='tight')"
   ]
  },
  {
   "cell_type": "code",
   "execution_count": 161,
   "metadata": {},
   "outputs": [
    {
     "data": {
      "text/plain": [
       "[0.9997645,\n",
       " 0.8757596,\n",
       " 0.7985915,\n",
       " 0.84262073,\n",
       " 0.9949723,\n",
       " 0.9657191,\n",
       " 0.9679038,\n",
       " 0.7430007,\n",
       " 0.99815416,\n",
       " 0.9286532]"
      ]
     },
     "execution_count": 161,
     "metadata": {},
     "output_type": "execute_result"
    }
   ],
   "source": [
    "simlist[:10]"
   ]
  },
  {
   "cell_type": "code",
   "execution_count": null,
   "metadata": {},
   "outputs": [],
   "source": [
    "for l in open('validation.txt'):\n",
    "        if l.startswith(\"reviewerID\"):continue\n",
    "        user,item,labels = l.strip().split(',')\n",
    "        y_valid=eval(labels)\n",
    "        u_g=user+ '-' +item\n",
    "        X_valid.append(u_g)\n",
    "        model.wv.similar_by_word(str().decode('utf-8'), topn =100)\n",
    "        if item in return2:\n",
    "            predictions[u_g]=1\n",
    "        else:\n",
    "            predictions[u_g]=0  \n",
    "        y_pred=predictions[u_g]\n",
    "        if y_valid==y_pred:\n",
    "            acc+=1\n",
    "    valid_len=len(X_valid)\n",
    "    accuracy=acc/valid_len\n",
    "    accuracy_all.append(accuracy)\n",
    "accuracy_all"
   ]
  }
 ],
 "metadata": {
  "kernelspec": {
   "display_name": "Python 3",
   "language": "python",
   "name": "python3"
  },
  "language_info": {
   "codemirror_mode": {
    "name": "ipython",
    "version": 3
   },
   "file_extension": ".py",
   "mimetype": "text/x-python",
   "name": "python",
   "nbconvert_exporter": "python",
   "pygments_lexer": "ipython3",
   "version": "3.8.3"
  }
 },
 "nbformat": 4,
 "nbformat_minor": 4
}
