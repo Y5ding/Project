{
 "cells": [
  {
   "cell_type": "code",
   "execution_count": 1,
   "metadata": {},
   "outputs": [],
   "source": [
    "import gzip\n",
    "import math\n",
    "import sklearn\n",
    "import random\n",
    "import numpy as np\n",
    "import pandas as pd\n",
    "import sklearn\n",
    "from pandas import DataFrame\n",
    "from sklearn import linear_model\n",
    "from collections import defaultdict\n",
    "from random import choice\n",
    "import matplotlib.pyplot as plt"
   ]
  },
  {
   "cell_type": "code",
   "execution_count": 2,
   "metadata": {},
   "outputs": [],
   "source": [
    "def parse(path):\n",
    "    g = gzip.open(path, 'rb')\n",
    "    for l in g:\n",
    "        true=True\n",
    "        false=False\n",
    "        yield eval(l)\n",
    "\n",
    "def readJSON(path):\n",
    "    i = 0\n",
    "    df = {}\n",
    "    for d in parse(path):\n",
    "        df[i] = d\n",
    "        i += 1\n",
    "    return pd.DataFrame.from_dict(df, orient='index')"
   ]
  },
  {
   "cell_type": "code",
   "execution_count": 3,
   "metadata": {},
   "outputs": [],
   "source": [
    "dataset = pd.read_csv(\"winequality-red.csv\")"
   ]
  },
  {
   "cell_type": "code",
   "execution_count": 25,
   "metadata": {},
   "outputs": [],
   "source": [
    "def feature1(datum):\n",
    "    fea=list()\n",
    "    for i in range(len(datum)):\n",
    "        f_acid=list(datum['fixed acidity'])[i]/(datum['fixed acidity'].max())\n",
    "        v_acid=list(datum['volatile acidity'])[i]/(datum['volatile acidity'].max())\n",
    "        c_acid=list(datum['citric acid'])[i]/(np.array(datum['citric acid']).max())\n",
    "        r_sugar=list(datum['residual sugar'])[i]/(np.array(datum['residual sugar']).max())\n",
    "        chlor=list(datum['chlorides'])[i]/(np.array(datum['chlorides']).max())\n",
    "        f_sulfur=list(datum['free sulfur dioxide'])[i]/(np.array(datum['free sulfur dioxide']).max())\n",
    "        t_sulfur=list(datum['total sulfur dioxide'])[i]/(np.array(datum['total sulfur dioxide']).max())\n",
    "        density=list(datum['density'])[i]/(np.array(datum['density']).max())\n",
    "        ph=list(datum['pH'])[i]/(np.array(datum['pH']).max())\n",
    "        sulphates=list(datum['sulphates'])[i]/(np.array(datum['sulphates']).max())\n",
    "        alch=list(datum['alcohol'])[i]/(np.array(datum['alcohol']).max())\n",
    "        a=[f_acid]+[v_acid]+[c_acid]+[r_sugar]+[chlor]+[f_sulfur]+[t_sulfur]+[density]+[ph]+[sulphates]+[alch]\n",
    "        fea.append(a)\n",
    "    return fea\n",
    "#normalize all feature"
   ]
  },
  {
   "cell_type": "code",
   "execution_count": 14,
   "metadata": {},
   "outputs": [],
   "source": [
    "X=feature1(dataset)\n",
    "y=dataset['quality']"
   ]
  },
  {
   "cell_type": "code",
   "execution_count": 40,
   "metadata": {},
   "outputs": [],
   "source": [
    "index=2*len(X)//3\n",
    "X_train=X[:index]\n",
    "X_test=X[index:]\n",
    "y_train=y[:index]\n",
    "y_test=y[index:]"
   ]
  },
  {
   "cell_type": "code",
   "execution_count": 21,
   "metadata": {},
   "outputs": [],
   "source": [
    "#calculate covariance"
   ]
  },
  {
   "cell_type": "code",
   "execution_count": 16,
   "metadata": {},
   "outputs": [],
   "source": [
    "X_def=np.array(X_train)\n",
    "X_def=np.mat(X_train).T"
   ]
  },
  {
   "cell_type": "code",
   "execution_count": 17,
   "metadata": {},
   "outputs": [],
   "source": [
    "Xmean=np.mean(X_def, axis=1)\n",
    "X_def2=X_def-Xmean"
   ]
  },
  {
   "cell_type": "code",
   "execution_count": 18,
   "metadata": {},
   "outputs": [],
   "source": [
    "covi=np.cov(X_def2,rowvar=True)\n",
    "eigenValue, eigenVec=np.linalg.eig(covi)"
   ]
  },
  {
   "cell_type": "code",
   "execution_count": 19,
   "metadata": {},
   "outputs": [
    {
     "data": {
      "text/plain": [
       "array([ 1.96629023e-03, -3.71620516e-04,  4.48901542e-03,  1.15644654e-03,\n",
       "        1.03363666e-03,  2.55788499e-03,  2.10782880e-03,  2.63665543e-05,\n",
       "       -5.29862123e-04,  1.52679918e-03,  4.38946386e-04])"
      ]
     },
     "execution_count": 19,
     "metadata": {},
     "output_type": "execute_result"
    }
   ],
   "source": [
    "np.mean(covi,axis=1)"
   ]
  },
  {
   "cell_type": "code",
   "execution_count": 20,
   "metadata": {},
   "outputs": [],
   "source": [
    "#chi-square test"
   ]
  },
  {
   "cell_type": "code",
   "execution_count": 22,
   "metadata": {},
   "outputs": [
    {
     "data": {
      "text/plain": [
       "array([[0.44303797, 0.        , 0.15277778, 0.11764706, 0.63087248],\n",
       "       [0.55696203, 0.        , 0.34722222, 0.23183391, 0.65771812],\n",
       "       [0.48101266, 0.04      , 0.20833333, 0.18685121, 0.65771812],\n",
       "       ...,\n",
       "       [0.1835443 , 0.65      , 0.08333333, 0.05882353, 0.79194631],\n",
       "       [0.46835443, 0.09      , 0.06944444, 0.03460208, 0.79194631],\n",
       "       [0.38607595, 0.18      , 0.08333333, 0.06920415, 0.68456376]])"
      ]
     },
     "execution_count": 22,
     "metadata": {},
     "output_type": "execute_result"
    }
   ],
   "source": [
    "from sklearn.feature_selection import SelectKBest\n",
    "from sklearn.feature_selection import chi2\n",
    "model1 = SelectKBest(chi2, k=5)\n",
    "model1.fit_transform(X_train,y_train)"
   ]
  },
  {
   "cell_type": "code",
   "execution_count": 23,
   "metadata": {},
   "outputs": [
    {
     "data": {
      "text/plain": [
       "array([8.50108874e-01, 5.42409239e+00, 7.77535264e+00, 3.60636196e-01,\n",
       "       6.35979363e-01, 1.66514630e+00, 8.95288964e+00, 1.31118037e-04,\n",
       "       1.31322977e-02, 1.18014537e+00, 2.27387537e+00])"
      ]
     },
     "execution_count": 23,
     "metadata": {},
     "output_type": "execute_result"
    }
   ],
   "source": [
    "model1.scores_"
   ]
  },
  {
   "cell_type": "code",
   "execution_count": 24,
   "metadata": {},
   "outputs": [],
   "source": [
    "#linear regression"
   ]
  },
  {
   "cell_type": "code",
   "execution_count": 26,
   "metadata": {},
   "outputs": [
    {
     "name": "stderr",
     "output_type": "stream",
     "text": [
      "<ipython-input-26-929a17f25f37>:1: FutureWarning: `rcond` parameter will change to the default of machine precision times ``max(M, N)`` where M and N are the input matrix dimensions.\n",
      "To use the future default and silence this warning we advise to pass `rcond=None`, to keep using the old, explicitly pass `rcond=-1`.\n",
      "  theta,residuals,rank,s = np.linalg.lstsq(X_train, y_train)\n"
     ]
    }
   ],
   "source": [
    "theta,residuals,rank,s = np.linalg.lstsq(X_train, y_train)"
   ]
  },
  {
   "cell_type": "code",
   "execution_count": 27,
   "metadata": {},
   "outputs": [
    {
     "data": {
      "text/plain": [
       "array([ 0.0083251 , -1.59819856, -0.22507577,  0.27441969, -1.00113619,\n",
       "        0.21680442, -1.31827605,  4.21887481, -1.69847189,  1.39235898,\n",
       "        4.68206521])"
      ]
     },
     "execution_count": 27,
     "metadata": {},
     "output_type": "execute_result"
    }
   ],
   "source": [
    "theta"
   ]
  },
  {
   "cell_type": "code",
   "execution_count": 28,
   "metadata": {},
   "outputs": [],
   "source": [
    "def MSE(predictions, labels):\n",
    "    differences = [(x-y)**2 for x,y in zip(predictions,labels)]\n",
    "    return sum(differences) / len(differences)"
   ]
  },
  {
   "cell_type": "code",
   "execution_count": 37,
   "metadata": {},
   "outputs": [
    {
     "data": {
      "text/plain": [
       "LinearRegression()"
      ]
     },
     "execution_count": 37,
     "metadata": {},
     "output_type": "execute_result"
    }
   ],
   "source": [
    "model = sklearn.linear_model.LinearRegression()\n",
    "model.fit(X_train,y_train)"
   ]
  },
  {
   "cell_type": "code",
   "execution_count": 46,
   "metadata": {},
   "outputs": [],
   "source": [
    "yPred = model.predict(X_test)"
   ]
  },
  {
   "cell_type": "code",
   "execution_count": 48,
   "metadata": {},
   "outputs": [
    {
     "name": "stdout",
     "output_type": "stream",
     "text": [
      "MSE is  0.4497687436793937 R^2 is  0.309327823658728\n"
     ]
    }
   ],
   "source": [
    "a=model.score(X_test,y_test)\n",
    "b=MSE(yPred,y_test)\n",
    "print('MSE is ', b, 'R^2 is ',a)"
   ]
  },
  {
   "cell_type": "code",
   "execution_count": 49,
   "metadata": {},
   "outputs": [],
   "source": [
    "def feature2(datum,j):\n",
    "    fea=list()\n",
    "    for i in range(len(datum)):\n",
    "        f_acid=list(datum['fixed acidity'])[i]/(datum['fixed acidity'].max())\n",
    "        v_acid=list(datum['volatile acidity'])[i]/(datum['volatile acidity'].max())\n",
    "        c_acid=list(datum['citric acid'])[i]/(np.array(datum['citric acid']).max())\n",
    "        r_sugar=list(datum['residual sugar'])[i]/(np.array(datum['residual sugar']).max())\n",
    "        chlor=list(datum['chlorides'])[i]/(np.array(datum['chlorides']).max())\n",
    "        f_sulfur=list(datum['free sulfur dioxide'])[i]/(np.array(datum['free sulfur dioxide']).max())\n",
    "        t_sulfur=list(datum['total sulfur dioxide'])[i]/(np.array(datum['total sulfur dioxide']).max())\n",
    "        density=list(datum['density'])[i]/(np.array(datum['density']).max())\n",
    "        ph=list(datum['pH'])[i]/(np.array(datum['pH']).max())\n",
    "        sulphates=list(datum['sulphates'])[i]/(np.array(datum['sulphates']).max())\n",
    "        alch=list(datum['alcohol'])[i]/(np.array(datum['alcohol']).max())\n",
    "        a=[1]+[f_acid]+[v_acid]+[c_acid]+[r_sugar]+[chlor]+[f_sulfur]+[t_sulfur]+[density]+[ph]+[sulphates]+[alch]\n",
    "        a.pop(j) \n",
    "        fea.append(a)\n",
    "    return fea"
   ]
  },
  {
   "cell_type": "code",
   "execution_count": 52,
   "metadata": {},
   "outputs": [
    {
     "name": "stdout",
     "output_type": "stream",
     "text": [
      "1  MSE is  -5.9175796987720464e-05\n",
      "2  MSE is  0.03174141969802796\n",
      "3  MSE is  -5.489917844514469e-05\n",
      "4  MSE is  -0.0019288777140277213\n",
      "5  MSE is  0.007705739866039618\n",
      "6  MSE is  0.00159699601817892\n",
      "7  MSE is  -0.003396528902696372\n",
      "8  MSE is  -0.001660091842064837\n",
      "9  MSE is  0.0019488338065184463\n",
      "10  MSE is  0.023232617637566566\n",
      "11  MSE is  0.023019413953294876\n"
     ]
    }
   ],
   "source": [
    "y_train=y[:index]\n",
    "y_test=y[index:]\n",
    "mse_min=0.5\n",
    "j=1\n",
    "while j <12:\n",
    "    X=feature2(dataset,j)\n",
    "    X_train=X[:index]\n",
    "    X_test=X[index:]\n",
    "    model = sklearn.linear_model.LinearRegression()\n",
    "    model.fit(X_train,y_train)\n",
    "    yPred = model.predict(X_test)\n",
    "    p=MSE(yPred, y_test)-b\n",
    "    print(j,' MSE is ', p)\n",
    "    j+=1"
   ]
  },
  {
   "cell_type": "code",
   "execution_count": 62,
   "metadata": {},
   "outputs": [],
   "source": [
    "def feature3(datum):\n",
    "    fea=list()\n",
    "    for i in range(len(datum)):\n",
    "        f_acid=list(datum['fixed acidity'])[i]/(datum['fixed acidity'].max())\n",
    "        v_acid=list(datum['volatile acidity'])[i]/(datum['volatile acidity'].max())\n",
    "        c_acid=list(datum['citric acid'])[i]/(np.array(datum['citric acid']).max())\n",
    "        r_sugar=list(datum['residual sugar'])[i]/(np.array(datum['residual sugar']).max())\n",
    "        chlor=list(datum['chlorides'])[i]/(np.array(datum['chlorides']).max())\n",
    "        f_sulfur=list(datum['free sulfur dioxide'])[i]/(np.array(datum['free sulfur dioxide']).max())\n",
    "        t_sulfur=list(datum['total sulfur dioxide'])[i]/(np.array(datum['total sulfur dioxide']).max())\n",
    "        density=list(datum['density'])[i]/(np.array(datum['density']).max())\n",
    "        ph=list(datum['pH'])[i]/(np.array(datum['pH']).max())\n",
    "        sulphates=list(datum['sulphates'])[i]/(np.array(datum['sulphates']).max())\n",
    "        alch=list(datum['alcohol'])[i]/(np.array(datum['alcohol']).max())\n",
    "        a=[1]+[f_acid]+[v_acid]+[r_sugar]+[chlor]+[ph]+[sulphates]+[alch]\n",
    "        fea.append(a)\n",
    "    return fea"
   ]
  },
  {
   "cell_type": "code",
   "execution_count": 63,
   "metadata": {},
   "outputs": [
    {
     "data": {
      "text/plain": [
       "0.4262891888004292"
      ]
     },
     "execution_count": 63,
     "metadata": {},
     "output_type": "execute_result"
    }
   ],
   "source": [
    "#Based on above method, we finally decided to remove 4 features: citric acid,free sulfur dioxide,\n",
    "#and total sulfur dioxide,density\n",
    "\n",
    "X1=feature3(dataset)\n",
    "X1_train=X1[:index]\n",
    "X1_test=X1[index:]\n",
    "model = sklearn.linear_model.LinearRegression()\n",
    "model.fit(X1_train,y_train)\n",
    "yPred = model.predict(X1_test)\n",
    "MSE(yPred, y_test)"
   ]
  },
  {
   "cell_type": "code",
   "execution_count": null,
   "metadata": {},
   "outputs": [],
   "source": []
  }
 ],
 "metadata": {
  "kernelspec": {
   "display_name": "Python 3",
   "language": "python",
   "name": "python3"
  },
  "language_info": {
   "codemirror_mode": {
    "name": "ipython",
    "version": 3
   },
   "file_extension": ".py",
   "mimetype": "text/x-python",
   "name": "python",
   "nbconvert_exporter": "python",
   "pygments_lexer": "ipython3",
   "version": "3.8.3"
  }
 },
 "nbformat": 4,
 "nbformat_minor": 4
}
