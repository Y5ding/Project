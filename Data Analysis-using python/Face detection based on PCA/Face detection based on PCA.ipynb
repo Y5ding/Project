{
 "cells": [
  {
   "cell_type": "code",
   "execution_count": 4,
   "metadata": {},
   "outputs": [],
   "source": [
    "import random as ra\n",
    "def variance():\n",
    "    a= list()\n",
    "    for i in range (1000000):\n",
    "        b=ra.uniform(0,1)\n",
    "    if b>0.5:\n",
    "        x=(2*b-1)**0.5\n",
    "    else:\n",
    "        x=-(-2*b-1)**0.5\n",
    "    a.append(b)\n",
    "    m=sum(a)/len(a)\n",
    "    mean=list()\n",
    "    for i in range (1000000):\n",
    "        q=(b[i]-m)**2\n",
    "        mean.append(q)\n",
    "    raw =sum(mean)/1000000\n",
    "    return raw"
   ]
  },
  {
   "cell_type": "code",
   "execution_count": null,
   "metadata": {},
   "outputs": [],
   "source": []
  }
 ],
 "metadata": {
  "kernelspec": {
   "display_name": "Python 3",
   "language": "python",
   "name": "python3"
  },
  "language_info": {
   "codemirror_mode": {
    "name": "ipython",
    "version": 3
   },
   "file_extension": ".py",
   "mimetype": "text/x-python",
   "name": "python",
   "nbconvert_exporter": "python",
   "pygments_lexer": "ipython3",
   "version": "3.8.3"
  }
 },
 "nbformat": 4,
 "nbformat_minor": 4
}
